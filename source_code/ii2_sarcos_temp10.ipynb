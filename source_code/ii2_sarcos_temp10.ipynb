{
 "cells": [
  {
   "cell_type": "code",
   "execution_count": 1,
   "metadata": {},
   "outputs": [
    {
     "name": "stdout",
     "output_type": "stream",
     "text": [
      "executing gpml startup script...\r\n"
     ]
    }
   ],
   "source": [
    "disp ('executing gpml startup script...')\n",
    "mydir = fileparts (mfilename ('fullpath'));                 % where am I located\n",
    "addpath (mydir)\n",
    "dirs = {'cov','doc','inf','lik','mean','prior','util'};           % core folders\n",
    "for d = dirs, addpath (fullfile (mydir, d{1})), end\n",
    "dirs = {{'util','minfunc'},{'util','minfunc','compiled'}};     % minfunc folders\n",
    "for d = dirs, addpath (fullfile (mydir, d{1}{:})), end\n",
    "% addpath([mydir,'/util/sparseinv'])\n",
    "pkg load statistics\n",
    "graphics_toolkit ('gnuplot')\n",
    "\n",
    "warning('off','all');\n",
    "\n",
    "rand('state',123456)\n",
    "exp_name = 'ii2_sarcos_temp10';"
   ]
  },
  {
   "cell_type": "markdown",
   "metadata": {},
   "source": [
    "%load(exp_name)"
   ]
  },
  {
   "cell_type": "code",
   "execution_count": 2,
   "metadata": {},
   "outputs": [],
   "source": [
    "n = 42000; nt = 4449; nv = 2484;\n",
    "\n",
    "load('./data/sarcos_inv.mat');\n",
    "load('./data/sarcos_inv_test.mat');\n",
    "R = randperm(n+nv);\n",
    "ori_xvec = sarcos_inv(R(1:n),1:21); ori_yvec = sarcos_inv(R(1:n),22);\n",
    "ori_xvec_val = sarcos_inv(R(n+1:n+nv),1:21); ori_yvec_val = sarcos_inv(R(n+1:n+nv),22);\n",
    "ori_xvec_test = sarcos_inv_test(:,1:21); ori_yvec_test = sarcos_inv_test(:,22);"
   ]
  },
  {
   "cell_type": "code",
   "execution_count": 3,
   "metadata": {},
   "outputs": [],
   "source": [
    "ttcs = 400;\n",
    "ttm = round(n / (ttcs/2));\n",
    "% fast_induce_step = 50;\n",
    "induce_step = 100;\n",
    "\n",
    "xnorm = 1; ynorm = 1;"
   ]
  },
  {
   "cell_type": "code",
   "execution_count": 4,
   "metadata": {},
   "outputs": [],
   "source": [
    "% input normalization\n",
    "if xnorm == 1\n",
    "    norm_xmean = mean(ori_xvec);\n",
    "    norm_xstd = std(ori_xvec);\n",
    "    xvec = (ori_xvec - repmat(norm_xmean,n,1)) ./ repmat(norm_xstd,n,1);    \n",
    "    xvec_test = (ori_xvec_test - repmat(norm_xmean,nt,1)) ./ repmat(norm_xstd,nt,1);\n",
    "    xvec_val = (ori_xvec_val - repmat(norm_xmean,nv,1)) ./ repmat(norm_xstd,nv,1);\n",
    "else\n",
    "    xvec = ori_xvec;\n",
    "    xvec_test = ori_xvec_test;\n",
    "    xvec_val = ori_xvec_val;\n",
    "end"
   ]
  },
  {
   "cell_type": "code",
   "execution_count": 5,
   "metadata": {},
   "outputs": [],
   "source": [
    "% output normalization\n",
    "if ynorm == 1\n",
    "    norm_fmean = mean(ori_yvec);\n",
    "    norm_fstd = std(ori_yvec);\n",
    "    yvec = (ori_yvec - norm_fmean) / norm_fstd;\n",
    "    yvec_test = (ori_yvec_test - norm_fmean) / norm_fstd;\n",
    "    yvec_val = (ori_yvec_val - norm_fmean) / norm_fstd;\n",
    "else\n",
    "    yvec = ori_yvec;\n",
    "    yvec_test = ori_yvec_test;\n",
    "    yvec_test_val = ori_yvec_val;\n",
    "end"
   ]
  },
  {
   "cell_type": "code",
   "execution_count": 6,
   "metadata": {},
   "outputs": [],
   "source": [
    "grls = 0.6:0.01:1.0; % percentage of remaining data to be test"
   ]
  },
  {
   "cell_type": "code",
   "execution_count": 7,
   "metadata": {},
   "outputs": [],
   "source": [
    "sf2 = 1 ; ell = 1 ; sn2 = 0.1 ; \n",
    "d = size(xvec,2);\n",
    "opts.Xnorm = 'N' ; opts.Ynorm = 'N' ;\n",
    "opts.ell = ell ; opts.sf2 = sf2 ; opts.sn2 = sn2 ;\n",
    "opts.meanfunc = []; opts.covfunc = @covSEard; opts.likfunc = @likGauss; opts.inffunc = @infGaussLik ;\n",
    "\n",
    "meanfunc = [];                    % empty: don't use a mean function\n",
    "covfunc = opts.covfunc;              % Squared Exponental covariance function\n",
    "likfunc = opts.likfunc;              % Gaussian likelihood\n",
    "inffunc = opts.inffunc;\n",
    "km_iters = 1e4;\n",
    "opts.induce_step = induce_step ;"
   ]
  },
  {
   "cell_type": "code",
   "execution_count": 8,
   "metadata": {},
   "outputs": [],
   "source": [
    "kti = 1;\n",
    "grbcm0_smse_rec = zeros(kti, 1);\n",
    "vfe0_smse_rec = zeros(kti, 1);\n",
    "grbcm0_msll_rec = zeros(kti, 1);\n",
    "vfe0_msll_rec = zeros(kti, 1);\n",
    "\n",
    "grbcm_smse_rec = zeros(kti, 1);\n",
    "vfe_smse_rec = zeros(kti, 1);\n",
    "grbcm_msll_rec = zeros(kti, 1);\n",
    "vfe_msll_rec = zeros(kti, 1);"
   ]
  },
  {
   "cell_type": "code",
   "execution_count": 9,
   "metadata": {},
   "outputs": [],
   "source": [
    "% use validation data to find the optimal gr\n",
    "best_msll = inf;\n",
    "best_msll_gr = 1;\n",
    "best_smse = inf;\n",
    "best_smse_gr = 1;\n",
    "ki = 1;"
   ]
  },
  {
   "cell_type": "markdown",
   "metadata": {},
   "source": [
    "# find ratio"
   ]
  },
  {
   "cell_type": "code",
   "execution_count": 10,
   "metadata": {},
   "outputs": [],
   "source": [
    "dcs = round(ttcs/2);\n",
    "m = ttm;\n",
    "\n",
    "n_per = dcs ; % size of Dc"
   ]
  },
  {
   "cell_type": "code",
   "execution_count": 11,
   "metadata": {},
   "outputs": [],
   "source": [
    "Indics = randperm(n) ;\n",
    "I_com = Indics(1:n_per) ; % randomly select communication set\n",
    "[idx, C] = kmeans(xvec, m,'MaxIter',km_iters);    \n",
    "\n",
    "% hyp.cov = log([ones(d,1)*ell;sf2]); hyp.lik = log(sn2); hyp.mean = [];    \n",
    "opts.numOptFC = 30 ;\n",
    "opts.Ms = m+1;\n",
    "opts.xvec = xvec;\n",
    "opts.yvec = yvec;\n",
    "opts.induce_size = dcs;\n",
    "opts.grbcm_baseline = 0;\n",
    "opts.global_index = ones(n,1);\n",
    "opts.I_com = I_com;\n",
    "% opts.inffunc = @infGaussLik; opts.meanfunc = meanfunc; opts.likfunc = likfunc;\n",
    "opts.covfunc = covfunc;\n",
    "covfuncF = {@apxSparse, {opts.covfunc}, xvec(I_com,:)};\n",
    "opts.covfuncF = covfuncF;\n",
    "opts.compute_hyp = 0;"
   ]
  },
  {
   "cell_type": "code",
   "execution_count": 12,
   "metadata": {},
   "outputs": [
    {
     "name": "stdout",
     "output_type": "stream",
     "text": [
      "Optimizing hyps in training...\n",
      "Linesearch     30;  Value -2.832512e+04\n",
      "GRBCM (Dc size 200): MSE 4.79670641, SMSE 0.01146775, MSLL -1.81461698\n"
     ]
    }
   ],
   "source": [
    "g_opts = opts;\n",
    "g_opts.compute_hyp = 1;\n",
    "g_opts.grbcm_baseline = 1;\n",
    "g_opts.global_index = ones(n,1);\n",
    "g_models = aggregation_train_GRBCM_VS_apx(xvec,yvec,idx,g_opts); \n",
    "opts.hyp = g_models{1}.hyp;\n",
    "g_opts.hyp = g_models{1}.hyp;\n",
    "[tmu,ts2, ~] =  aggregation_predict(xvec_val,g_models,'GRBCM', 1, g_opts);\n",
    "if ynorm==1\n",
    "    tmu = tmu * norm_fstd + norm_fmean;\n",
    "    ts2 = ts2 * norm_fstd^2;\n",
    "end\n",
    "[grbcmMSE,grbcmSMSE,grbcmMSLL] = evaluate2(ori_xvec, ori_yvec, ori_xvec_val, ori_yvec_val, tmu, ts2);\n",
    "fprintf('%s (Dc size %d): MSE %6.8f, SMSE %6.8f, MSLL %6.8f\\r\\n', 'GRBCM', n_per, grbcmMSE,grbcmSMSE,grbcmMSLL);\n",
    "% grbcm0_smse_rec(ki) = grbcmSMSE; grbcm0_msll_rec(ki) = grbcmMSLL;\n",
    "g_opts.compute_hyp = 0;"
   ]
  },
  {
   "cell_type": "code",
   "execution_count": 13,
   "metadata": {},
   "outputs": [
    {
     "name": "stdout",
     "output_type": "stream",
     "text": [
      "Function evaluation     99;  Value 3.764573e+05\n",
      "VFE (Dc size 200): MSE 11.10023523, SMSE 0.02653794, MSLL -1.62061553\n"
     ]
    }
   ],
   "source": [
    "vfe_opts = opts;\n",
    "vfe_opts.induce_type = 'VFE_opt';\n",
    "xu = xvec(I_com, :);\n",
    "inffunc = @(varargin) infGaussLik(varargin{:}, struct('s', 0.0));\n",
    "vfe_hyp = opts.hyp;\n",
    "vfe_hyp.xu = xu;\n",
    "[vfe_hyp, tmp_nlzs] = minimize(vfe_hyp,@sp_gp,-vfe_opts.induce_step,inffunc,meanfunc,covfuncF,likfunc,xvec,yvec);\n",
    "vfe_opts.hyp = opts.hyp;\n",
    "vfe_opts.xu = vfe_hyp.xu;\n",
    "vfe_opts.inffunc = @infGaussLik; vfe_opts.meanfunc = meanfunc; vfe_opts.covfuncF = covfuncF; vfe_opts.likfunc = likfunc;\n",
    "vfe_opts.covfunc = covfunc;\n",
    "[tmu, ts2] = gp(vfe_hyp, @infGaussLik, meanfunc, covfuncF, likfunc, xvec, yvec, xvec_val);\n",
    "if ynorm==1\n",
    "    tmu = tmu * norm_fstd + norm_fmean;\n",
    "    ts2 = ts2 * norm_fstd^2;\n",
    "end\n",
    "[vfeMSE,vfeSMSE,vfeMSLL] = evaluate2(ori_xvec, ori_yvec, ori_xvec_val, ori_yvec_val, tmu, ts2);\n",
    "fprintf('%s (Dc size %d): MSE %6.8f, SMSE %6.8f, MSLL %6.8f\\r\\n', 'VFE', n_per, vfeMSE,vfeSMSE,vfeMSLL);\n",
    "% vfe0_smse_rec(ki) = vfeSMSE; vfe0_msll_rec(ki) = vfeMSLL;\n",
    "[yu, su] = gp(vfe_hyp, @infGaussLik, meanfunc, covfuncF, likfunc, xvec, yvec, vfe_opts.xu);\n",
    "vfe_opts.yu = yu; vfe_opts.su = su; "
   ]
  },
  {
   "cell_type": "code",
   "execution_count": 14,
   "metadata": {},
   "outputs": [
    {
     "name": "stdout",
     "output_type": "stream",
     "text": [
      "GRBCM++ (VFE) (Dc size 200): \r",
      "\r\n",
      "MSE 4.54747727, SMSE 0.0109, MSLL -2.0386\r",
      "\r\n"
     ]
    }
   ],
   "source": [
    "models = aggregation_train_GRBCM_VS_apx(xvec,yvec,idx,vfe_opts); % use hyp of vfe\n",
    "[tmu,ts2] =  aggregation_predict_GRBCM_VS_apx(xvec_val,models,vfe_opts);\n",
    "if ynorm==1\n",
    "    tmu = tmu * norm_fstd + norm_fmean;\n",
    "    ts2 = ts2 * norm_fstd^2;\n",
    "end\n",
    "[MSE,SMSE,MSLL] = evaluate2(ori_xvec, ori_yvec, ori_xvec_val, ori_yvec_val, tmu, ts2);\n",
    "fprintf('%s (Dc size %d): \\r\\nMSE %6.8f, SMSE %6.4f, MSLL %6.4f\\r\\n', 'GRBCM++ (VFE)', n_per, MSE,SMSE,MSLL);"
   ]
  },
  {
   "cell_type": "code",
   "execution_count": 15,
   "metadata": {},
   "outputs": [
    {
     "name": "stdout",
     "output_type": "stream",
     "text": [
      "dcs_ecs_r =  0.90375\n",
      "dcs =  362\n",
      "ecs =  38\n",
      "m =  1105\n"
     ]
    }
   ],
   "source": [
    "sig_temp = 10;\n",
    "dcs_ecs_r = sigmoid(-MSLL+grbcmMSLL, sig_temp)\n",
    "dcs = round(ttcs*dcs_ecs_r)\n",
    "ecs = ttcs - dcs\n",
    "m = round(n / ecs)"
   ]
  },
  {
   "cell_type": "markdown",
   "metadata": {},
   "source": [
    "# New unbalanced"
   ]
  },
  {
   "cell_type": "code",
   "execution_count": 16,
   "metadata": {},
   "outputs": [],
   "source": [
    "n_per = dcs ; % size of Dc\n",
    "Indics = randperm(n) ;\n",
    "I_com = Indics(1:n_per) ; % randomly select communication set\n",
    "[idx, C] = kmeans(xvec, m,'MaxIter',km_iters);    \n",
    "\n",
    "% hyp.cov = log([ones(d,1)*ell;sf2]); hyp.lik = log(sn2); hyp.mean = [];    \n",
    "opts.numOptFC = 30 ;\n",
    "opts.Ms = m+1;\n",
    "opts.xvec = xvec;\n",
    "opts.yvec = yvec;\n",
    "opts.induce_size = dcs;\n",
    "opts.grbcm_baseline = 0;\n",
    "opts.global_index = ones(n,1);\n",
    "opts.I_com = I_com;\n",
    "% opts.inffunc = @infGaussLik; opts.meanfunc = meanfunc; opts.likfunc = likfunc;\n",
    "opts.covfunc = covfunc;\n",
    "covfuncF = {@apxSparse, {opts.covfunc}, xvec(I_com,:)};\n",
    "opts.covfuncF = covfuncF;\n",
    "opts.compute_hyp = 0;"
   ]
  },
  {
   "cell_type": "code",
   "execution_count": 17,
   "metadata": {},
   "outputs": [
    {
     "name": "stdout",
     "output_type": "stream",
     "text": [
      "GRBCM (Dc size 362): MSE 2.94276967, SMSE 0.00710349, MSLL -2.40199340\r",
      "\r\n"
     ]
    }
   ],
   "source": [
    "g_opts = opts;\n",
    "g_opts.compute_hyp = 0;\n",
    "g_opts.grbcm_baseline = 1;\n",
    "g_opts.global_index = ones(n,1);\n",
    "g_models = aggregation_train_GRBCM_VS_apx(xvec,yvec,idx,g_opts); \n",
    "opts.hyp = g_models{1}.hyp;\n",
    "g_opts.hyp = g_models{1}.hyp;\n",
    "[tmu,ts2, ~] =  aggregation_predict(xvec_test,g_models,'GRBCM', 1, g_opts);\n",
    "if ynorm==1\n",
    "    tmu = tmu * norm_fstd + norm_fmean;\n",
    "    ts2 = ts2 * norm_fstd^2;\n",
    "end\n",
    "[grbcmMSE,grbcmSMSE,grbcmMSLL] = evaluate2(ori_xvec, ori_yvec, ori_xvec_test, ori_yvec_test, tmu, ts2);\n",
    "fprintf('%s (Dc size %d): MSE %6.8f, SMSE %6.8f, MSLL %6.8f\\r\\n', 'GRBCM', n_per, grbcmMSE,grbcmSMSE,grbcmMSLL);\n",
    "% grbcm0_smse_rec(ki) = grbcmSMSE; grbcm0_msll_rec(ki) = grbcmMSLL;\n",
    "g_opts.compute_hyp = 0;"
   ]
  },
  {
   "cell_type": "code",
   "execution_count": 18,
   "metadata": {},
   "outputs": [
    {
     "name": "stdout",
     "output_type": "stream",
     "text": [
      "Function evaluation    100;  Value 1.943071e+05\n",
      "VFE baseline (Dc size 362): MSE 7.04982948, SMSE 0.01701745, MSLL -1.86205253\n"
     ]
    }
   ],
   "source": [
    "% % VFE Baseline\n",
    "vfe_opts = opts;\n",
    "vfe_opts.induce_type = 'VFE_opt';\n",
    "xu = xvec(I_com, :);\n",
    "vfe_hyp = opts.hyp;\n",
    "vfe_hyp.xu = xu;\n",
    "vfe_hyp = minimize(vfe_hyp,@sp_gp,-vfe_opts.induce_step,inffunc,meanfunc,covfuncF,likfunc,xvec,yvec);\n",
    "vfe_opts.hyp = opts.hyp;\n",
    "vfe_opts.xu = vfe_hyp.xu;\n",
    "vfe_opts.inffunc = @infGaussLik; vfe_opts.meanfunc = meanfunc; vfe_opts.covfuncF = covfuncF; vfe_opts.likfunc = likfunc;\n",
    "vfe_opts.covfunc = covfunc;\n",
    "[tmu, ts2] = gp(vfe_hyp, @infGaussLik, meanfunc, covfuncF, likfunc, xvec, yvec, xvec_test);\n",
    "if ynorm==1\n",
    "    tmu = tmu * norm_fstd + norm_fmean;\n",
    "    ts2 = ts2 * norm_fstd^2;\n",
    "end\n",
    "[vfeMSE,vfeSMSE,vfeMSLL] = evaluate2(ori_xvec, ori_yvec, ori_xvec_test, ori_yvec_test, tmu, ts2);\n",
    "fprintf('%s (Dc size %d): MSE %6.8f, SMSE %6.8f, MSLL %6.8f\\r\\n', 'VFE baseline', n_per, vfeMSE,vfeSMSE,vfeMSLL);\n",
    "% vfe0_smse_rec(ki) = vfeSMSE; vfe0_msll_rec(ki) = vfeMSLL;\n",
    "[yu, su] = gp(vfe_hyp, @infGaussLik, meanfunc, covfuncF, likfunc, xvec, yvec, vfe_opts.xu);\n",
    "vfe_opts.yu = yu; vfe_opts.su = su; "
   ]
  },
  {
   "cell_type": "code",
   "execution_count": 19,
   "metadata": {},
   "outputs": [
    {
     "name": "stdout",
     "output_type": "stream",
     "text": [
      "Function evaluation    100;  Value -1.922486e+04\n",
      "SPSG baseline (Dc size 362): MSE 8.62469285, SMSE 0.02081898, MSLL -1.91272020\n"
     ]
    }
   ],
   "source": [
    "sp_opts = opts;\n",
    "sp_opts.induce_type = 'SPGP_opt';\n",
    "hyp_init(1:d,1) = -2*opts.hyp.cov(1:d);\n",
    "hyp_init(d+1,1) = 2*opts.hyp.cov(d+1);\n",
    "hyp_init(d+2,1) = 2*opts.hyp.lik;\n",
    "\n",
    "sp_opts.induce_size = dcs;\n",
    "xu = xvec(I_com, :);\n",
    "w_init = [reshape(xu,sp_opts.induce_size*d,1);hyp_init];\n",
    "[w,f] = minimize(w_init,'spgp_lik_nohyp',-sp_opts.induce_step,yvec,xvec,sp_opts.induce_size);\n",
    "xb = reshape(w(1:sp_opts.induce_size*d,1),sp_opts.induce_size,d);\n",
    "sp_opts.xu = xb;\n",
    "sp_opts.sp_hyp = w(sp_opts.induce_size*d+1:end,1);\n",
    "sp_opts.hyp = opts.hyp;\n",
    "\n",
    "[tmu,ts2] = spgp_pred(sp_opts.yvec,sp_opts.xvec,sp_opts.xu,xvec_test,sp_opts.sp_hyp);\n",
    "if ynorm==1\n",
    "    tmu = tmu * norm_fstd + norm_fmean;\n",
    "    ts2 = ts2 * norm_fstd^2;\n",
    "end\n",
    "[spgpMSE,spgpSMSE,spgpMSLL] = evaluate2(ori_xvec, ori_yvec, ori_xvec_test, ori_yvec_test, tmu, ts2);\n",
    "fprintf('%s (Dc size %d): MSE %6.8f, SMSE %6.8f, MSLL %6.8f\\r\\n', 'SPSG baseline', n_per, spgpMSE,spgpSMSE,spgpMSLL);\n",
    "% spgp0_smse_rec(ki) = spgpSMSE; spgp0_msll_rec(ki) = spgpMSLL;\n",
    "[yu,su] = spgp_pred(sp_opts.yvec,sp_opts.xvec,sp_opts.xu,sp_opts.xu,sp_opts.sp_hyp);\n",
    "sp_opts.yu = yu; sp_opts.su = su;"
   ]
  },
  {
   "cell_type": "code",
   "execution_count": 20,
   "metadata": {},
   "outputs": [
    {
     "name": "stdout",
     "output_type": "stream",
     "text": [
      "validation results\r\n"
     ]
    }
   ],
   "source": [
    "disp('validation results')"
   ]
  },
  {
   "cell_type": "code",
   "execution_count": null,
   "metadata": {},
   "outputs": [
    {
     "name": "stdout",
     "output_type": "stream",
     "text": [
      "processing distance: 100/42000\n",
      "processing distance: 200/42000\n",
      "processing distance: 300/42000\n",
      "processing distance: 400/42000\n",
      "processing distance: 500/42000\n",
      "processing distance: 600/42000\n",
      "processing distance: 700/42000\n",
      "processing distance: 800/42000\n",
      "processing distance: 900/42000\n",
      "processing distance: 1000/42000\n",
      "processing distance: 1100/42000\n",
      "processing distance: 1200/42000\n",
      "processing distance: 1300/42000\n",
      "processing distance: 1400/42000\n",
      "processing distance: 1500/42000\n",
      "processing distance: 1600/42000\n",
      "processing distance: 1700/42000\n",
      "processing distance: 1800/42000\n",
      "processing distance: 1900/42000\n",
      "processing distance: 2000/42000\n",
      "processing distance: 2100/42000\n",
      "processing distance: 2200/42000\n",
      "processing distance: 2300/42000\n",
      "processing distance: 2400/42000\n",
      "processing distance: 2500/42000\n",
      "processing distance: 2600/42000\n",
      "processing distance: 2700/42000\n",
      "processing distance: 2800/42000\n",
      "processing distance: 2900/42000\n",
      "processing distance: 3000/42000\n",
      "processing distance: 3100/42000\n",
      "processing distance: 3200/42000\n",
      "processing distance: 3300/42000\n",
      "processing distance: 3400/42000\n",
      "processing distance: 3500/42000\n",
      "processing distance: 3600/42000\n",
      "processing distance: 3700/42000\n",
      "processing distance: 3800/42000\n",
      "processing distance: 3900/42000\n",
      "processing distance: 4000/42000\n",
      "processing distance: 4100/42000\n",
      "processing distance: 4200/42000\n",
      "processing distance: 4300/42000\n",
      "processing distance: 4400/42000\n",
      "processing distance: 4500/42000\n",
      "processing distance: 4600/42000\n",
      "processing distance: 4700/42000\n",
      "processing distance: 4800/42000\n",
      "processing distance: 4900/42000\n",
      "processing distance: 5000/42000\n",
      "processing distance: 5100/42000\n",
      "processing distance: 5200/42000\n",
      "processing distance: 5300/42000\n",
      "processing distance: 5400/42000\n",
      "processing distance: 5500/42000\n",
      "processing distance: 5600/42000\n",
      "processing distance: 5700/42000\n",
      "processing distance: 5800/42000\n",
      "processing distance: 5900/42000\n",
      "processing distance: 6000/42000\n",
      "processing distance: 6100/42000\n",
      "processing distance: 6200/42000\n",
      "processing distance: 6300/42000\n",
      "processing distance: 6400/42000\n",
      "processing distance: 6500/42000\n",
      "processing distance: 6600/42000\n",
      "processing distance: 6700/42000\n",
      "processing distance: 6800/42000\n",
      "processing distance: 6900/42000\n",
      "processing distance: 7000/42000\n",
      "processing distance: 7100/42000\n",
      "processing distance: 7200/42000\n",
      "processing distance: 7300/42000\n",
      "processing distance: 7400/42000\n",
      "processing distance: 7500/42000\n",
      "processing distance: 7600/42000\n",
      "processing distance: 7700/42000\n",
      "processing distance: 7800/42000\n",
      "processing distance: 7900/42000\n",
      "processing distance: 8000/42000\n",
      "processing distance: 8100/42000\n",
      "processing distance: 8200/42000\n",
      "processing distance: 8300/42000\n",
      "processing distance: 8400/42000\n",
      "processing distance: 8500/42000\n",
      "processing distance: 8600/42000\n",
      "processing distance: 8700/42000\n",
      "processing distance: 8800/42000\n",
      "processing distance: 8900/42000\n",
      "processing distance: 9000/42000\n",
      "processing distance: 9100/42000\n",
      "processing distance: 9200/42000\n",
      "processing distance: 9300/42000\n",
      "processing distance: 9400/42000\n",
      "processing distance: 9500/42000\n",
      "processing distance: 9600/42000\n",
      "processing distance: 9700/42000\n",
      "processing distance: 9800/42000\n",
      "processing distance: 9900/42000\n",
      "processing distance: 10000/42000\n",
      "processing distance: 10100/42000\n",
      "processing distance: 10200/42000\n",
      "processing distance: 10300/42000\n",
      "processing distance: 10400/42000\n",
      "processing distance: 10500/42000\n",
      "processing distance: 10600/42000\n",
      "processing distance: 10700/42000\n",
      "processing distance: 10800/42000\n",
      "processing distance: 10900/42000\n",
      "processing distance: 11000/42000\n",
      "processing distance: 11100/42000\n",
      "processing distance: 11200/42000\n",
      "processing distance: 11300/42000\n",
      "processing distance: 11400/42000\n",
      "processing distance: 11500/42000\n",
      "processing distance: 11600/42000\n",
      "processing distance: 11700/42000\n",
      "processing distance: 11800/42000\n",
      "processing distance: 11900/42000\n",
      "processing distance: 12000/42000\n",
      "processing distance: 12100/42000\n",
      "processing distance: 12200/42000\n",
      "processing distance: 12300/42000\n",
      "processing distance: 12400/42000\n",
      "processing distance: 12500/42000\n",
      "processing distance: 12600/42000\n",
      "processing distance: 12700/42000\n",
      "processing distance: 12800/42000\n",
      "processing distance: 12900/42000\n",
      "processing distance: 13000/42000\n",
      "processing distance: 13100/42000\n",
      "processing distance: 13200/42000\n",
      "processing distance: 13300/42000\n",
      "processing distance: 13400/42000\n",
      "processing distance: 13500/42000\n",
      "processing distance: 13600/42000\n",
      "processing distance: 13700/42000\n",
      "processing distance: 13800/42000\n",
      "processing distance: 13900/42000\n",
      "processing distance: 14000/42000\n",
      "processing distance: 14100/42000\n",
      "processing distance: 14200/42000\n",
      "processing distance: 14300/42000\n",
      "processing distance: 14400/42000\n",
      "processing distance: 14500/42000\n",
      "processing distance: 14600/42000\n",
      "processing distance: 14700/42000\n",
      "processing distance: 14800/42000\n",
      "processing distance: 14900/42000\n",
      "processing distance: 15000/42000\n",
      "processing distance: 15100/42000\n",
      "processing distance: 15200/42000\n",
      "processing distance: 15300/42000\n",
      "processing distance: 15400/42000\n",
      "processing distance: 15500/42000\n",
      "processing distance: 15600/42000\n",
      "processing distance: 15700/42000\n",
      "processing distance: 15800/42000\n",
      "processing distance: 15900/42000\n",
      "processing distance: 16000/42000\n",
      "processing distance: 16100/42000\n",
      "processing distance: 16200/42000\n",
      "processing distance: 16300/42000\n",
      "processing distance: 16400/42000\n",
      "processing distance: 16500/42000\n",
      "processing distance: 16600/42000\n",
      "processing distance: 16700/42000\n",
      "processing distance: 16800/42000\n",
      "processing distance: 16900/42000\n",
      "processing distance: 17000/42000\n",
      "processing distance: 17100/42000\n",
      "processing distance: 17200/42000\n",
      "processing distance: 17300/42000\n",
      "processing distance: 17400/42000\n",
      "processing distance: 17500/42000\n",
      "processing distance: 17600/42000\n",
      "processing distance: 17700/42000\n",
      "processing distance: 17800/42000\n",
      "processing distance: 17900/42000\n",
      "processing distance: 18000/42000\n",
      "processing distance: 18100/42000\n",
      "processing distance: 18200/42000\n",
      "processing distance: 18300/42000\n",
      "processing distance: 18400/42000\n",
      "processing distance: 18500/42000\n",
      "processing distance: 18600/42000\n",
      "processing distance: 18700/42000\n",
      "processing distance: 18800/42000\n",
      "processing distance: 18900/42000\n",
      "processing distance: 19000/42000\n",
      "processing distance: 19100/42000\n",
      "processing distance: 19200/42000\n",
      "processing distance: 19300/42000\n",
      "processing distance: 19400/42000\n",
      "processing distance: 19500/42000\n",
      "processing distance: 19600/42000\n",
      "processing distance: 19700/42000\n",
      "processing distance: 19800/42000\n",
      "processing distance: 19900/42000\n",
      "processing distance: 20000/42000\n",
      "processing distance: 20100/42000\n",
      "processing distance: 20200/42000\n",
      "processing distance: 20300/42000\n",
      "processing distance: 20400/42000\n",
      "processing distance: 20500/42000\n",
      "processing distance: 20600/42000\n",
      "processing distance: 20700/42000\n",
      "processing distance: 20800/42000\n",
      "processing distance: 20900/42000\n",
      "processing distance: 21000/42000\n",
      "processing distance: 21100/42000\n",
      "processing distance: 21200/42000\n",
      "processing distance: 21300/42000\n",
      "processing distance: 21400/42000\n",
      "processing distance: 21500/42000\r"
     ]
    }
   ],
   "source": [
    "% compute informatic importance\n",
    "ds = zeros(n, m);\n",
    "for i=1:n\n",
    "    for j=1:m\n",
    "        %ds(i,j) = muti1(i)-muti2(j,i)+muti1(j)-muti2(i,j);\n",
    "        ds(i,j) = norm(xvec(i, :) - C(j,:));\n",
    "    end\n",
    "end\n",
    "% 1st closest cluster centers\n",
    "[~, fcc] = min(ds, [], 2);\n",
    "% set to inf\n",
    "for i=1:n\n",
    "    ds(i, fcc(i)) = 1e10;\n",
    "end\n",
    "% 2st closest cluster centers\n",
    "[~, scc] = min(ds, [], 2);\n",
    "rk = zeros(n, 1);\n",
    "for iik=1:n\n",
    "    if mod(iik, 1e2)==0\n",
    "        fprintf('processing distance: %d/%d\\n', iik, n);\n",
    "    end\n",
    "    i = fcc(iik);\n",
    "    [tmp_mu, tmp_sig2] = gp(opts.hyp,inffunc,meanfunc, ...\n",
    "        covfunc,likfunc,g_models{i+1}.X,g_models{i+1}.Y,xvec(iik,:));\n",
    "    h1 = 0.5*log(tmp_sig2);\n",
    "    j = scc(iik);\n",
    "%     [tmp_mu, tmp_sig2] = gp(opts.hyp,inffunc,meanfunc, ...\n",
    "%         covfunc,likfunc,[g_models{i+1}.X;g_models{j+1}.X],[g_models{i+1}.Y;g_models{j+1}.Y],xvec(iik,:));\n",
    "    [tmp_mu, tmp_sig2] = gp(opts.hyp,inffunc,meanfunc, ...\n",
    "        covfunc,likfunc,[g_models{j+1}.X],[g_models{j+1}.Y],xvec(iik,:));\n",
    "    h2 = 0.5*log(tmp_sig2);\n",
    "    rk(iik) = h2 - h1; % importance is the difference between mutual information\n",
    "end"
   ]
  },
  {
   "cell_type": "code",
   "execution_count": null,
   "metadata": {},
   "outputs": [],
   "source": [
    "for kj=1:length(grls) % test/validate different remaining percentage\n",
    "    kj\n",
    "    gr=grls(kj)\n",
    "\n",
    "    % remove data, and use sparse approximation\n",
    "    crk = rk;\n",
    "    [~, crk_idx] = sort(crk, 'descend');\n",
    "    rn = round(n*gr);\n",
    "    global_index = crk_idx(1:rn);\n",
    "    global_index = zeros(n,1);\n",
    "    global_index(crk_idx(1:rn)) = 1; % select remaining data according to the importance\n",
    "    \n",
    "    vfe_opts.global_index = global_index;\n",
    "    models = aggregation_train_GRBCM_VS_apx(xvec,yvec,idx,vfe_opts); % use hyp of vfe\n",
    "    [tmu,ts2] = aggregation_predict_GRBCM_VS_apx(xvec_val,models,vfe_opts);\n",
    "    if ynorm==1\n",
    "        tmu = tmu * norm_fstd + norm_fmean;\n",
    "        ts2 = ts2 * norm_fstd^2;\n",
    "    end\n",
    "    [MSE,SMSE,MSLL] = evaluate2(ori_xvec, ori_yvec, ori_xvec_val, ori_yvec_val, tmu, ts2);\n",
    "    fprintf('%s (Dc size %d): \\r\\nMSE %6.8f, SMSE %6.8f, MSLL %6.8f\\r\\n', 'GRBCM++', n_per, MSE,SMSE,MSLL);\n",
    "    vfe_gr_smse(ki,kj) = SMSE; vfe_gr_msll(ki,kj) = MSLL;\n",
    "    if MSLL < best_msll\n",
    "        best_msll = MSLL; best_msll_gr = gr;\n",
    "    end\n",
    "    if SMSE < best_smse\n",
    "        best_smse = SMSE; best_smse_gr = gr;\n",
    "    end\n",
    "    \n",
    "    sp_opts.global_index = global_index;\n",
    "    models = aggregation_train_GRBCM_VS_apx(xvec,yvec,idx,sp_opts); % use hyp of vfe\n",
    "    [tmu,ts2] = aggregation_predict_GRBCM_VS_apx(xvec_val,models,sp_opts);\n",
    "    if ynorm==1\n",
    "        tmu = tmu * norm_fstd + norm_fmean;\n",
    "        ts2 = ts2 * norm_fstd^2;\n",
    "    end\n",
    "    [MSE,SMSE,MSLL] = evaluate2(ori_xvec, ori_yvec, ori_xvec_val, ori_yvec_val, tmu, ts2);\n",
    "    fprintf('%s (Dc size %d): \\r\\nMSE %6.8f, SMSE %6.8f, MSLL %6.8f\\r\\n', 'GRBCM++', n_per, MSE,SMSE,MSLL);\n",
    "    spgp_gr_smse(ki,kj) = SMSE; spgp_gr_msll(ki,kj) = MSLL;\n",
    "end   "
   ]
  },
  {
   "cell_type": "code",
   "execution_count": 26,
   "metadata": {},
   "outputs": [
    {
     "name": "stdout",
     "output_type": "stream",
     "text": [
      "best msll gr 0.83000000, best MSLL -2.27388586\n",
      "best smse gr 0.99000000, best SMSE 0.01067736\n"
     ]
    }
   ],
   "source": [
    "fprintf('best msll gr %6.8f, best MSLL %6.8f\\r\\n', best_msll_gr, best_msll);\n",
    "fprintf('best smse gr %6.8f, best SMSE %6.8f\\r\\n', best_smse_gr, best_smse);"
   ]
  },
  {
   "cell_type": "code",
   "execution_count": 27,
   "metadata": {},
   "outputs": [
    {
     "name": "stdout",
     "output_type": "stream",
     "text": [
      "gr =  0.83000\n",
      "GRBCM++ (VFE) (Dc size 362): \n",
      "MSE 2.69923291, SMSE 0.0065, MSLL -2.5299\n",
      "GRBCM++ (SPGP) (Dc size 362): \n",
      "MSE 2.79764274, SMSE 0.0068, MSLL -2.3830\n",
      "gr =  0.99000\n",
      "GRBCM++ (VFE) (Dc size 362): \n",
      "MSE 2.61397613, SMSE 0.0063, MSLL -2.5158\n",
      "GRBCM++ (SPGP) (Dc size 362): \n",
      "MSE 2.70948312, SMSE 0.0065, MSLL -2.3373\n",
      "gr =  1\n",
      "GRBCM++ (VFE) (Dc size 362): \n",
      "MSE 2.62100349, SMSE 0.0063, MSLL -2.5135\n",
      "GRBCM++ (SPGP) (Dc size 362): \n",
      "MSE 2.71907451, SMSE 0.0066, MSLL -2.3326\n"
     ]
    }
   ],
   "source": [
    "for ki=1:kti\n",
    "    for gr = [best_msll_gr, best_smse_gr, 1.0]\n",
    "        gr\n",
    "        crk = rk;\n",
    "        crk(I_com) = -1e10;\n",
    "        [~, crk_idx] = sort(crk, 'descend');\n",
    "        rn = round(n*gr);\n",
    "        global_index = zeros(n,1);\n",
    "        global_index(crk_idx(1:rn)) = 1; % select remaining data according to the importance\n",
    "           \n",
    "        vfe_opts.global_index = global_index;\n",
    "        models = aggregation_train_GRBCM_VS_apx(xvec,yvec,idx,vfe_opts); % use hyp of vfe\n",
    "        [tmu,ts2] =  aggregation_predict_GRBCM_VS_apx(xvec_test,models,vfe_opts);\n",
    "        if ynorm==1\n",
    "            tmu = tmu * norm_fstd + norm_fmean;\n",
    "            ts2 = ts2 * norm_fstd^2;\n",
    "        end\n",
    "        [MSE,SMSE,MSLL] = evaluate2(ori_xvec, ori_yvec, ori_xvec_test, ori_yvec_test, tmu, ts2);\n",
    "        fprintf('%s (Dc size %d): \\r\\nMSE %6.8f, SMSE %6.4f, MSLL %6.4f\\r\\n', 'GRBCM++ (VFE)', n_per, MSE,SMSE,MSLL);\n",
    "%         grbcm2_gr_smse(ki,kj) = SMSE; grbcm2_gr_msll(ki,kj) = MSLL;\n",
    "        \n",
    "        sp_opts.global_index = global_index;\n",
    "        models = aggregation_train_GRBCM_VS_apx(xvec,yvec,idx,sp_opts); % use hyp of vfe\n",
    "        [tmu,ts2] =  aggregation_predict_GRBCM_VS_apx(xvec_test,models,sp_opts);\n",
    "        if ynorm==1\n",
    "            tmu = tmu * norm_fstd + norm_fmean;\n",
    "            ts2 = ts2 * norm_fstd^2;\n",
    "        end\n",
    "        [MSE,SMSE,MSLL] = evaluate2(ori_xvec, ori_yvec, ori_xvec_test, ori_yvec_test, tmu, ts2);\n",
    "        fprintf('%s (Dc size %d): \\r\\nMSE %6.8f, SMSE %6.4f, MSLL %6.4f\\r\\n', 'GRBCM++ (SPGP)', n_per, MSE,SMSE,MSLL);\n",
    "%         grbcm2_spgp_gr_smse(ki,kj) = SMSE; grbcm2_spgp_gr_msll(ki,kj) = MSLL;\n",
    "    end   \n",
    "end"
   ]
  },
  {
   "cell_type": "code",
   "execution_count": null,
   "metadata": {},
   "outputs": [],
   "source": [
    "save(exp_name)"
   ]
  },
  {
   "cell_type": "code",
   "execution_count": null,
   "metadata": {},
   "outputs": [],
   "source": []
  }
 ],
 "metadata": {
  "kernelspec": {
   "display_name": "Octave",
   "language": "octave",
   "name": "octave"
  },
  "language_info": {
   "file_extension": ".m",
   "help_links": [
    {
     "text": "GNU Octave",
     "url": "https://www.gnu.org/software/octave/support.html"
    },
    {
     "text": "Octave Kernel",
     "url": "https://github.com/Calysto/octave_kernel"
    },
    {
     "text": "MetaKernel Magics",
     "url": "https://metakernel.readthedocs.io/en/latest/source/README.html"
    }
   ],
   "mimetype": "text/x-octave",
   "name": "octave",
   "version": "4.2.2"
  }
 },
 "nbformat": 4,
 "nbformat_minor": 2
}
