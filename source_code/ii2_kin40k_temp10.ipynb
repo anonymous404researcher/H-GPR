{
 "cells": [
  {
   "cell_type": "code",
   "execution_count": 1,
   "metadata": {},
   "outputs": [
    {
     "name": "stdout",
     "output_type": "stream",
     "text": [
      "executing gpml startup script...\r\n"
     ]
    }
   ],
   "source": [
    "disp ('executing gpml startup script...')\n",
    "mydir = fileparts (mfilename ('fullpath'));                 % where am I located\n",
    "addpath (mydir)\n",
    "dirs = {'cov','doc','inf','lik','mean','prior','util'};           % core folders\n",
    "for d = dirs, addpath (fullfile (mydir, d{1})), end\n",
    "dirs = {{'util','minfunc'},{'util','minfunc','compiled'}};     % minfunc folders\n",
    "for d = dirs, addpath (fullfile (mydir, d{1}{:})), end\n",
    "% addpath([mydir,'/util/sparseinv'])\n",
    "pkg load statistics\n",
    "graphics_toolkit ('gnuplot')\n",
    "\n",
    "warning('off','all');\n",
    "\n",
    "rand('state',123456)\n",
    "exp_name = 'ii2_kin40k_temp10';"
   ]
  },
  {
   "cell_type": "markdown",
   "metadata": {},
   "source": [
    "%load(exp_name)"
   ]
  },
  {
   "cell_type": "code",
   "execution_count": 2,
   "metadata": {},
   "outputs": [
    {
     "name": "stdout",
     "output_type": "stream",
     "text": [
      "nv =  1000\n",
      "n =  9000\n"
     ]
    }
   ],
   "source": [
    "nn = 10000; \n",
    "nt = 30000;\n",
    "nv = nn*0.1\n",
    "n = nn-nv\n",
    "[ori_xvec,ori_yvec,ori_xvec_test,ori_yvec_test] = load_data('data/kin40k','kin40k');\n",
    "R = randperm(nn);\n",
    "ori_xvec_val = ori_xvec(R(1:nv),:);\n",
    "ori_yvec_val = ori_yvec(R(1:nv));\n",
    "ori_xvec(R(1:nv),:) = [];\n",
    "ori_yvec(R(1:nv)) = [];"
   ]
  },
  {
   "cell_type": "code",
   "execution_count": 3,
   "metadata": {},
   "outputs": [],
   "source": [
    "ttcs = 600;\n",
    "ttm = round(n / (ttcs/2));\n",
    "% fast_induce_step = 50;\n",
    "induce_step = 100;\n",
    "\n",
    "xnorm = 1; ynorm = 1;"
   ]
  },
  {
   "cell_type": "code",
   "execution_count": 4,
   "metadata": {},
   "outputs": [],
   "source": [
    "% input normalization\n",
    "if xnorm == 1\n",
    "    norm_xmean = mean(ori_xvec);\n",
    "    norm_xstd = std(ori_xvec);\n",
    "    xvec = (ori_xvec - repmat(norm_xmean,n,1)) ./ repmat(norm_xstd,n,1);    \n",
    "    xvec_test = (ori_xvec_test - repmat(norm_xmean,nt,1)) ./ repmat(norm_xstd,nt,1);\n",
    "    xvec_val = (ori_xvec_val - repmat(norm_xmean,nv,1)) ./ repmat(norm_xstd,nv,1);\n",
    "else\n",
    "    xvec = ori_xvec;\n",
    "    xvec_test = ori_xvec_test;\n",
    "    xvec_val = ori_xvec_val;\n",
    "end"
   ]
  },
  {
   "cell_type": "code",
   "execution_count": 5,
   "metadata": {},
   "outputs": [],
   "source": [
    "% output normalization\n",
    "if ynorm == 1\n",
    "    norm_fmean = mean(ori_yvec);\n",
    "    norm_fstd = std(ori_yvec);\n",
    "    yvec = (ori_yvec - norm_fmean) / norm_fstd;\n",
    "    yvec_test = (ori_yvec_test - norm_fmean) / norm_fstd;\n",
    "    yvec_val = (ori_yvec_val - norm_fmean) / norm_fstd;\n",
    "else\n",
    "    yvec = ori_yvec;\n",
    "    yvec_test = ori_yvec_test;\n",
    "    yvec_test_val = ori_yvec_val;\n",
    "end"
   ]
  },
  {
   "cell_type": "code",
   "execution_count": 6,
   "metadata": {},
   "outputs": [],
   "source": [
    "grls = 0.6:0.01:1.0; % percentage of remaining data to be test"
   ]
  },
  {
   "cell_type": "code",
   "execution_count": 7,
   "metadata": {},
   "outputs": [],
   "source": [
    "sf2 = 1 ; ell = 1 ; sn2 = 0.1 ; \n",
    "d = size(xvec,2);\n",
    "opts.Xnorm = 'N' ; opts.Ynorm = 'N' ;\n",
    "opts.ell = ell ; opts.sf2 = sf2 ; opts.sn2 = sn2 ;\n",
    "opts.meanfunc = []; opts.covfunc = @covSEard; opts.likfunc = @likGauss; opts.inffunc = @infGaussLik ;\n",
    "\n",
    "meanfunc = [];                    % empty: don't use a mean function\n",
    "covfunc = opts.covfunc;              % Squared Exponental covariance function\n",
    "likfunc = opts.likfunc;              % Gaussian likelihood\n",
    "inffunc = opts.inffunc;\n",
    "km_iters = 1e4;\n",
    "opts.induce_step = induce_step ;"
   ]
  },
  {
   "cell_type": "code",
   "execution_count": 8,
   "metadata": {},
   "outputs": [],
   "source": [
    "kti = 1;\n",
    "grbcm0_smse_rec = zeros(kti, 1);\n",
    "vfe0_smse_rec = zeros(kti, 1);\n",
    "grbcm0_msll_rec = zeros(kti, 1);\n",
    "vfe0_msll_rec = zeros(kti, 1);\n",
    "\n",
    "grbcm_smse_rec = zeros(kti, 1);\n",
    "vfe_smse_rec = zeros(kti, 1);\n",
    "grbcm_msll_rec = zeros(kti, 1);\n",
    "vfe_msll_rec = zeros(kti, 1);"
   ]
  },
  {
   "cell_type": "code",
   "execution_count": 9,
   "metadata": {},
   "outputs": [],
   "source": [
    "% use validation data to find the optimal gr\n",
    "best_msll = inf;\n",
    "best_msll_gr = 1;\n",
    "best_smse = inf;\n",
    "best_smse_gr = 1;\n",
    "ki = 1;"
   ]
  },
  {
   "cell_type": "markdown",
   "metadata": {},
   "source": [
    "# find ratio"
   ]
  },
  {
   "cell_type": "code",
   "execution_count": 10,
   "metadata": {},
   "outputs": [],
   "source": [
    "dcs = round(ttcs/2);\n",
    "m = ttm;\n",
    "\n",
    "n_per = dcs ; % size of Dc"
   ]
  },
  {
   "cell_type": "code",
   "execution_count": 11,
   "metadata": {},
   "outputs": [],
   "source": [
    "Indics = randperm(n) ;\n",
    "I_com = Indics(1:n_per) ; % randomly select communication set\n",
    "[idx, C] = kmeans(xvec, m,'MaxIter',km_iters);    \n",
    "\n",
    "% hyp.cov = log([ones(d,1)*ell;sf2]); hyp.lik = log(sn2); hyp.mean = [];    \n",
    "opts.numOptFC = 30 ;\n",
    "opts.Ms = m+1;\n",
    "opts.xvec = xvec;\n",
    "opts.yvec = yvec;\n",
    "opts.induce_size = dcs;\n",
    "opts.grbcm_baseline = 0;\n",
    "opts.global_index = ones(n,1);\n",
    "opts.I_com = I_com;\n",
    "% opts.inffunc = @infGaussLik; opts.meanfunc = meanfunc; opts.likfunc = likfunc;\n",
    "opts.covfunc = covfunc;\n",
    "covfuncF = {@apxSparse, {opts.covfunc}, xvec(I_com,:)};\n",
    "opts.covfuncF = covfuncF;\n",
    "opts.compute_hyp = 0;"
   ]
  },
  {
   "cell_type": "code",
   "execution_count": 12,
   "metadata": {},
   "outputs": [
    {
     "name": "stdout",
     "output_type": "stream",
     "text": [
      "Optimizing hyps in training...\n",
      "Linesearch     30;  Value 2.547982e+03\n",
      "GRBCM (Dc size 300): MSE 0.03155786, SMSE 0.02997381, MSLL -1.84029091\n"
     ]
    }
   ],
   "source": [
    "g_opts = opts;\n",
    "g_opts.compute_hyp = 1;\n",
    "g_opts.grbcm_baseline = 1;\n",
    "g_opts.global_index = ones(n,1);\n",
    "g_models = aggregation_train_GRBCM_VS_apx(xvec,yvec,idx,g_opts); \n",
    "opts.hyp = g_models{1}.hyp;\n",
    "g_opts.hyp = g_models{1}.hyp;\n",
    "[tmu,ts2, ~] =  aggregation_predict(xvec_val,g_models,'GRBCM', 1, g_opts);\n",
    "if ynorm==1\n",
    "    tmu = tmu * norm_fstd + norm_fmean;\n",
    "    ts2 = ts2 * norm_fstd^2;\n",
    "end\n",
    "[grbcmMSE,grbcmSMSE,grbcmMSLL] = evaluate2(ori_xvec, ori_yvec, ori_xvec_val, ori_yvec_val, tmu, ts2);\n",
    "fprintf('%s (Dc size %d): MSE %6.8f, SMSE %6.8f, MSLL %6.8f\\r\\n', 'GRBCM', n_per, grbcmMSE,grbcmSMSE,grbcmMSLL);\n",
    "% grbcm0_smse_rec(ki) = grbcmSMSE; grbcm0_msll_rec(ki) = grbcmMSLL;\n",
    "g_opts.compute_hyp = 0;"
   ]
  },
  {
   "cell_type": "code",
   "execution_count": 13,
   "metadata": {},
   "outputs": [
    {
     "name": "stdout",
     "output_type": "stream",
     "text": [
      "Function evaluation     99;  Value 2.269995e+05\n",
      "VFE (Dc size 300): MSE 0.04606521, SMSE 0.04375296, MSLL -1.26864414\n"
     ]
    }
   ],
   "source": [
    "vfe_opts = opts;\n",
    "vfe_opts.induce_type = 'VFE_opt';\n",
    "xu = xvec(I_com, :);\n",
    "inffunc = @(varargin) infGaussLik(varargin{:}, struct('s', 0.0));\n",
    "vfe_hyp = opts.hyp;\n",
    "vfe_hyp.xu = xu;\n",
    "[vfe_hyp, tmp_nlzs] = minimize(vfe_hyp,@sp_gp,-vfe_opts.induce_step,inffunc,meanfunc,covfuncF,likfunc,xvec,yvec);\n",
    "vfe_opts.hyp = opts.hyp;\n",
    "vfe_opts.xu = vfe_hyp.xu;\n",
    "vfe_opts.inffunc = @infGaussLik; vfe_opts.meanfunc = meanfunc; vfe_opts.covfuncF = covfuncF; vfe_opts.likfunc = likfunc;\n",
    "vfe_opts.covfunc = covfunc;\n",
    "[tmu, ts2] = gp(vfe_hyp, @infGaussLik, meanfunc, covfuncF, likfunc, xvec, yvec, xvec_val);\n",
    "if ynorm==1\n",
    "    tmu = tmu * norm_fstd + norm_fmean;\n",
    "    ts2 = ts2 * norm_fstd^2;\n",
    "end\n",
    "[vfeMSE,vfeSMSE,vfeMSLL] = evaluate2(ori_xvec, ori_yvec, ori_xvec_val, ori_yvec_val, tmu, ts2);\n",
    "fprintf('%s (Dc size %d): MSE %6.8f, SMSE %6.8f, MSLL %6.8f\\r\\n', 'VFE', n_per, vfeMSE,vfeSMSE,vfeMSLL);\n",
    "% vfe0_smse_rec(ki) = vfeSMSE; vfe0_msll_rec(ki) = vfeMSLL;\n",
    "[yu, su] = gp(vfe_hyp, @infGaussLik, meanfunc, covfuncF, likfunc, xvec, yvec, vfe_opts.xu);\n",
    "vfe_opts.yu = yu; vfe_opts.su = su; "
   ]
  },
  {
   "cell_type": "code",
   "execution_count": 14,
   "metadata": {},
   "outputs": [
    {
     "name": "stdout",
     "output_type": "stream",
     "text": [
      "GRBCM++ (VFE) (Dc size 300): \r",
      "\r\n",
      "MSE 0.02850232, SMSE 0.0271, MSLL -1.9272\r",
      "\r\n"
     ]
    }
   ],
   "source": [
    "models = aggregation_train_GRBCM_VS_apx(xvec,yvec,idx,vfe_opts); % use hyp of vfe\n",
    "[tmu,ts2] =  aggregation_predict_GRBCM_VS_apx(xvec_val,models,vfe_opts);\n",
    "if ynorm==1\n",
    "    tmu = tmu * norm_fstd + norm_fmean;\n",
    "    ts2 = ts2 * norm_fstd^2;\n",
    "end\n",
    "[MSE,SMSE,MSLL] = evaluate2(ori_xvec, ori_yvec, ori_xvec_val, ori_yvec_val, tmu, ts2);\n",
    "fprintf('%s (Dc size %d): \\r\\nMSE %6.8f, SMSE %6.4f, MSLL %6.4f\\r\\n', 'GRBCM++ (VFE)', n_per, MSE,SMSE,MSLL);"
   ]
  },
  {
   "cell_type": "code",
   "execution_count": 15,
   "metadata": {},
   "outputs": [
    {
     "name": "stdout",
     "output_type": "stream",
     "text": [
      "dcs_ecs_r =  0.70453\n",
      "dcs =  423\n",
      "ecs =  177\n",
      "m =  51\n"
     ]
    }
   ],
   "source": [
    "sig_temp = 10;\n",
    "dcs_ecs_r = sigmoid(-MSLL+grbcmMSLL, sig_temp)\n",
    "dcs = round(ttcs*dcs_ecs_r)\n",
    "ecs = ttcs - dcs\n",
    "m = round(n / ecs)"
   ]
  },
  {
   "cell_type": "markdown",
   "metadata": {},
   "source": [
    "# New unbalanced"
   ]
  },
  {
   "cell_type": "code",
   "execution_count": 16,
   "metadata": {},
   "outputs": [],
   "source": [
    "n_per = dcs ; % size of Dc\n",
    "Indics = randperm(n) ;\n",
    "I_com = Indics(1:n_per) ; % randomly select communication set\n",
    "[idx, C] = kmeans(xvec, m,'MaxIter',km_iters);    \n",
    "\n",
    "% hyp.cov = log([ones(d,1)*ell;sf2]); hyp.lik = log(sn2); hyp.mean = [];    \n",
    "opts.numOptFC = 30 ;\n",
    "opts.Ms = m+1;\n",
    "opts.xvec = xvec;\n",
    "opts.yvec = yvec;\n",
    "opts.induce_size = dcs;\n",
    "opts.grbcm_baseline = 0;\n",
    "opts.global_index = ones(n,1);\n",
    "opts.I_com = I_com;\n",
    "% opts.inffunc = @infGaussLik; opts.meanfunc = meanfunc; opts.likfunc = likfunc;\n",
    "opts.covfunc = covfunc;\n",
    "covfuncF = {@apxSparse, {opts.covfunc}, xvec(I_com,:)};\n",
    "opts.covfuncF = covfuncF;\n",
    "opts.compute_hyp = 0;"
   ]
  },
  {
   "cell_type": "code",
   "execution_count": 17,
   "metadata": {},
   "outputs": [
    {
     "name": "stdout",
     "output_type": "stream",
     "text": [
      "GRBCM (Dc size 423): MSE 0.02919724, SMSE 0.02943629, MSLL -1.87775328\r",
      "\r\n"
     ]
    }
   ],
   "source": [
    "g_opts = opts;\n",
    "g_opts.compute_hyp = 0;\n",
    "g_opts.grbcm_baseline = 1;\n",
    "g_opts.global_index = ones(n,1);\n",
    "g_models = aggregation_train_GRBCM_VS_apx(xvec,yvec,idx,g_opts); \n",
    "opts.hyp = g_models{1}.hyp;\n",
    "g_opts.hyp = g_models{1}.hyp;\n",
    "[tmu,ts2, ~] =  aggregation_predict(xvec_test,g_models,'GRBCM', 1, g_opts);\n",
    "if ynorm==1\n",
    "    tmu = tmu * norm_fstd + norm_fmean;\n",
    "    ts2 = ts2 * norm_fstd^2;\n",
    "end\n",
    "[grbcmMSE,grbcmSMSE,grbcmMSLL] = evaluate2(ori_xvec, ori_yvec, ori_xvec_test, ori_yvec_test, tmu, ts2);\n",
    "fprintf('%s (Dc size %d): MSE %6.8f, SMSE %6.8f, MSLL %6.8f\\r\\n', 'GRBCM', n_per, grbcmMSE,grbcmSMSE,grbcmMSLL);\n",
    "% grbcm0_smse_rec(ki) = grbcmSMSE; grbcm0_msll_rec(ki) = grbcmMSLL;\n",
    "g_opts.compute_hyp = 0;"
   ]
  },
  {
   "cell_type": "code",
   "execution_count": 18,
   "metadata": {},
   "outputs": [
    {
     "name": "stdout",
     "output_type": "stream",
     "text": [
      "Function evaluation     99;  Value 1.595376e+05\n",
      "VFE baseline (Dc size 423): MSE 0.03744784, SMSE 0.03775445, MSLL -1.38902409\n"
     ]
    }
   ],
   "source": [
    "% % VFE Baseline\n",
    "vfe_opts = opts;\n",
    "vfe_opts.induce_type = 'VFE_opt';\n",
    "xu = xvec(I_com, :);\n",
    "vfe_hyp = opts.hyp;\n",
    "vfe_hyp.xu = xu;\n",
    "vfe_hyp = minimize(vfe_hyp,@sp_gp,-vfe_opts.induce_step,inffunc,meanfunc,covfuncF,likfunc,xvec,yvec);\n",
    "vfe_opts.hyp = opts.hyp;\n",
    "vfe_opts.xu = vfe_hyp.xu;\n",
    "vfe_opts.inffunc = @infGaussLik; vfe_opts.meanfunc = meanfunc; vfe_opts.covfuncF = covfuncF; vfe_opts.likfunc = likfunc;\n",
    "vfe_opts.covfunc = covfunc;\n",
    "[tmu, ts2] = gp(vfe_hyp, @infGaussLik, meanfunc, covfuncF, likfunc, xvec, yvec, xvec_test);\n",
    "if ynorm==1\n",
    "    tmu = tmu * norm_fstd + norm_fmean;\n",
    "    ts2 = ts2 * norm_fstd^2;\n",
    "end\n",
    "[vfeMSE,vfeSMSE,vfeMSLL] = evaluate2(ori_xvec, ori_yvec, ori_xvec_test, ori_yvec_test, tmu, ts2);\n",
    "fprintf('%s (Dc size %d): MSE %6.8f, SMSE %6.8f, MSLL %6.8f\\r\\n', 'VFE baseline', n_per, vfeMSE,vfeSMSE,vfeMSLL);\n",
    "% vfe0_smse_rec(ki) = vfeSMSE; vfe0_msll_rec(ki) = vfeMSLL;\n",
    "[yu, su] = gp(vfe_hyp, @infGaussLik, meanfunc, covfuncF, likfunc, xvec, yvec, vfe_opts.xu);\n",
    "vfe_opts.yu = yu; vfe_opts.su = su; "
   ]
  },
  {
   "cell_type": "code",
   "execution_count": 19,
   "metadata": {},
   "outputs": [
    {
     "name": "stdout",
     "output_type": "stream",
     "text": [
      "Function evaluation     99;  Value 6.125995e+02\n",
      "SPSG baseline (Dc size 423): MSE 0.04365615, SMSE 0.04401359, MSLL -1.40805924\n"
     ]
    }
   ],
   "source": [
    "sp_opts = opts;\n",
    "sp_opts.induce_type = 'SPGP_opt';\n",
    "hyp_init(1:d,1) = -2*opts.hyp.cov(1:d);\n",
    "hyp_init(d+1,1) = 2*opts.hyp.cov(d+1);\n",
    "hyp_init(d+2,1) = 2*opts.hyp.lik;\n",
    "\n",
    "sp_opts.induce_size = dcs;\n",
    "xu = xvec(I_com, :);\n",
    "w_init = [reshape(xu,sp_opts.induce_size*d,1);hyp_init];\n",
    "[w,f] = minimize(w_init,'spgp_lik_nohyp',-sp_opts.induce_step,yvec,xvec,sp_opts.induce_size);\n",
    "xb = reshape(w(1:sp_opts.induce_size*d,1),sp_opts.induce_size,d);\n",
    "sp_opts.xu = xb;\n",
    "sp_opts.sp_hyp = w(sp_opts.induce_size*d+1:end,1);\n",
    "sp_opts.hyp = opts.hyp;\n",
    "\n",
    "[tmu,ts2] = spgp_pred(sp_opts.yvec,sp_opts.xvec,sp_opts.xu,xvec_test,sp_opts.sp_hyp);\n",
    "if ynorm==1\n",
    "    tmu = tmu * norm_fstd + norm_fmean;\n",
    "    ts2 = ts2 * norm_fstd^2;\n",
    "end\n",
    "[spgpMSE,spgpSMSE,spgpMSLL] = evaluate2(ori_xvec, ori_yvec, ori_xvec_test, ori_yvec_test, tmu, ts2);\n",
    "fprintf('%s (Dc size %d): MSE %6.8f, SMSE %6.8f, MSLL %6.8f\\r\\n', 'SPSG baseline', n_per, spgpMSE,spgpSMSE,spgpMSLL);\n",
    "% spgp0_smse_rec(ki) = spgpSMSE; spgp0_msll_rec(ki) = spgpMSLL;\n",
    "[yu,su] = spgp_pred(sp_opts.yvec,sp_opts.xvec,sp_opts.xu,sp_opts.xu,sp_opts.sp_hyp);\n",
    "sp_opts.yu = yu; sp_opts.su = su;"
   ]
  },
  {
   "cell_type": "code",
   "execution_count": 20,
   "metadata": {},
   "outputs": [
    {
     "name": "stdout",
     "output_type": "stream",
     "text": [
      "validation results\r\n"
     ]
    }
   ],
   "source": [
    "disp('validation results')"
   ]
  },
  {
   "cell_type": "code",
   "execution_count": 21,
   "metadata": {},
   "outputs": [
    {
     "name": "stdout",
     "output_type": "stream",
     "text": [
      "processing distance: 100/9000\n",
      "processing distance: 200/9000\n",
      "processing distance: 300/9000\n",
      "processing distance: 400/9000\n",
      "processing distance: 500/9000\n",
      "processing distance: 600/9000\n",
      "processing distance: 700/9000\n",
      "processing distance: 800/9000\n",
      "processing distance: 900/9000\n",
      "processing distance: 1000/9000\n",
      "processing distance: 1100/9000\n",
      "processing distance: 1200/9000\n",
      "processing distance: 1300/9000\n",
      "processing distance: 1400/9000\n",
      "processing distance: 1500/9000\n",
      "processing distance: 1600/9000\n",
      "processing distance: 1700/9000\n",
      "processing distance: 1800/9000\n",
      "processing distance: 1900/9000\n",
      "processing distance: 2000/9000\n",
      "processing distance: 2100/9000\n",
      "processing distance: 2200/9000\n",
      "processing distance: 2300/9000\n",
      "processing distance: 2400/9000\n",
      "processing distance: 2500/9000\n",
      "processing distance: 2600/9000\n",
      "processing distance: 2700/9000\n",
      "processing distance: 2800/9000\n",
      "processing distance: 2900/9000\n",
      "processing distance: 3000/9000\n",
      "processing distance: 3100/9000\n",
      "processing distance: 3200/9000\n",
      "processing distance: 3300/9000\n",
      "processing distance: 3400/9000\n",
      "processing distance: 3500/9000\n",
      "processing distance: 3600/9000\n",
      "processing distance: 3700/9000\n",
      "processing distance: 3800/9000\n",
      "processing distance: 3900/9000\n",
      "processing distance: 4000/9000\n",
      "processing distance: 4100/9000\n",
      "processing distance: 4200/9000\n",
      "processing distance: 4300/9000\n",
      "processing distance: 4400/9000\n",
      "processing distance: 4500/9000\n",
      "processing distance: 4600/9000\n",
      "processing distance: 4700/9000\n",
      "processing distance: 4800/9000\n",
      "processing distance: 4900/9000\n",
      "processing distance: 5000/9000\n",
      "processing distance: 5100/9000\n",
      "processing distance: 5200/9000\n",
      "processing distance: 5300/9000\n",
      "processing distance: 5400/9000\n",
      "processing distance: 5500/9000\n",
      "processing distance: 5600/9000\n",
      "processing distance: 5700/9000\n",
      "processing distance: 5800/9000\n",
      "processing distance: 5900/9000\n",
      "processing distance: 6000/9000\n",
      "processing distance: 6100/9000\n",
      "processing distance: 6200/9000\n",
      "processing distance: 6300/9000\n",
      "processing distance: 6400/9000\n",
      "processing distance: 6500/9000\n",
      "processing distance: 6600/9000\n",
      "processing distance: 6700/9000\n",
      "processing distance: 6800/9000\n",
      "processing distance: 6900/9000\n",
      "processing distance: 7000/9000\n",
      "processing distance: 7100/9000\n",
      "processing distance: 7200/9000\n",
      "processing distance: 7300/9000\n",
      "processing distance: 7400/9000\n",
      "processing distance: 7500/9000\n",
      "processing distance: 7600/9000\n",
      "processing distance: 7700/9000\n",
      "processing distance: 7800/9000\n",
      "processing distance: 7900/9000\n",
      "processing distance: 8000/9000\n",
      "processing distance: 8100/9000\n",
      "processing distance: 8200/9000\n",
      "processing distance: 8300/9000\n",
      "processing distance: 8400/9000\n",
      "processing distance: 8500/9000\n",
      "processing distance: 8600/9000\n",
      "processing distance: 8700/9000\n",
      "processing distance: 8800/9000\n",
      "processing distance: 8900/9000\n",
      "processing distance: 9000/9000\n"
     ]
    }
   ],
   "source": [
    "% compute informatic importance\n",
    "ds = zeros(n, m);\n",
    "for i=1:n\n",
    "    for j=1:m\n",
    "        %ds(i,j) = muti1(i)-muti2(j,i)+muti1(j)-muti2(i,j);\n",
    "        ds(i,j) = norm(xvec(i, :) - C(j,:));\n",
    "    end\n",
    "end\n",
    "% 1st closest cluster centers\n",
    "[~, fcc] = min(ds, [], 2);\n",
    "% set to inf\n",
    "for i=1:n\n",
    "    ds(i, fcc(i)) = 1e10;\n",
    "end\n",
    "% 2st closest cluster centers\n",
    "[~, scc] = min(ds, [], 2);\n",
    "rk = zeros(n, 1);\n",
    "for iik=1:n\n",
    "    if mod(iik, 1e2)==0\n",
    "        fprintf('processing distance: %d/%d\\n', iik, n);\n",
    "    end\n",
    "    i = fcc(iik);\n",
    "    [tmp_mu, tmp_sig2] = gp(opts.hyp,inffunc,meanfunc, ...\n",
    "        covfunc,likfunc,g_models{i+1}.X,g_models{i+1}.Y,xvec(iik,:));\n",
    "    h1 = 0.5*log(tmp_sig2);\n",
    "    j = scc(iik);\n",
    "%     [tmp_mu, tmp_sig2] = gp(opts.hyp,inffunc,meanfunc, ...\n",
    "%         covfunc,likfunc,[g_models{i+1}.X;g_models{j+1}.X],[g_models{i+1}.Y;g_models{j+1}.Y],xvec(iik,:));\n",
    "    [tmp_mu, tmp_sig2] = gp(opts.hyp,inffunc,meanfunc, ...\n",
    "        covfunc,likfunc,[g_models{j+1}.X],[g_models{j+1}.Y],xvec(iik,:));\n",
    "    h2 = 0.5*log(tmp_sig2);\n",
    "    rk(iik) = h2 - h1; % importance is the difference between mutual information\n",
    "end"
   ]
  },
  {
   "cell_type": "code",
   "execution_count": 22,
   "metadata": {},
   "outputs": [
    {
     "name": "stdout",
     "output_type": "stream",
     "text": [
      "kj =  1\n",
      "gr =  0.60000\n",
      "GRBCM++ (Dc size 423): \n",
      "MSE 0.02861450, SMSE 0.02717819, MSLL -1.83767353\n",
      "GRBCM++ (Dc size 423): \n",
      "MSE 0.03185021, SMSE 0.03025149, MSLL -1.80829879\n",
      "kj =  2\n",
      "gr =  0.61000\n",
      "GRBCM++ (Dc size 423): \n",
      "MSE 0.02855101, SMSE 0.02711789, MSLL -1.84299221\n",
      "GRBCM++ (Dc size 423): \n",
      "MSE 0.03165360, SMSE 0.03006474, MSLL -1.81388740\n",
      "kj =  3\n",
      "gr =  0.62000\n",
      "GRBCM++ (Dc size 423): \n",
      "MSE 0.02828588, SMSE 0.02686607, MSLL -1.85232106\n",
      "GRBCM++ (Dc size 423): \n",
      "MSE 0.03150171, SMSE 0.02992048, MSLL -1.81982214\n",
      "kj =  4\n",
      "gr =  0.63000\n",
      "GRBCM++ (Dc size 423): \n",
      "MSE 0.02834215, SMSE 0.02691951, MSLL -1.85506885\n",
      "GRBCM++ (Dc size 423): \n",
      "MSE 0.03138000, SMSE 0.02980487, MSLL -1.82395124\n",
      "kj =  5\n",
      "gr =  0.64000\n",
      "GRBCM++ (Dc size 423): \n",
      "MSE 0.02829025, SMSE 0.02687021, MSLL -1.85938507\n",
      "GRBCM++ (Dc size 423): \n",
      "MSE 0.03126966, SMSE 0.02970007, MSLL -1.82947121\n",
      "kj =  6\n",
      "gr =  0.65000\n",
      "GRBCM++ (Dc size 423): \n",
      "MSE 0.02808970, SMSE 0.02667973, MSLL -1.86567039\n",
      "GRBCM++ (Dc size 423): \n",
      "MSE 0.03104720, SMSE 0.02948878, MSLL -1.83532701\n",
      "kj =  7\n",
      "gr =  0.66000\n",
      "GRBCM++ (Dc size 423): \n",
      "MSE 0.02816018, SMSE 0.02674667, MSLL -1.86436984\n",
      "GRBCM++ (Dc size 423): \n",
      "MSE 0.03112256, SMSE 0.02956036, MSLL -1.83321772\n",
      "kj =  8\n",
      "gr =  0.67000\n",
      "GRBCM++ (Dc size 423): \n",
      "MSE 0.02782859, SMSE 0.02643173, MSLL -1.87076591\n",
      "GRBCM++ (Dc size 423): \n",
      "MSE 0.03077262, SMSE 0.02922799, MSLL -1.83915836\n",
      "kj =  9\n",
      "gr =  0.68000\n",
      "GRBCM++ (Dc size 423): \n",
      "MSE 0.02758253, SMSE 0.02619802, MSLL -1.87851259\n",
      "GRBCM++ (Dc size 423): \n",
      "MSE 0.03036430, SMSE 0.02884016, MSLL -1.84742645\n",
      "kj =  10\n",
      "gr =  0.69000\n",
      "GRBCM++ (Dc size 423): \n",
      "MSE 0.02724508, SMSE 0.02587751, MSLL -1.88529319\n",
      "GRBCM++ (Dc size 423): \n",
      "MSE 0.03003325, SMSE 0.02852573, MSLL -1.85304994\n",
      "kj =  11\n",
      "gr =  0.70000\n",
      "GRBCM++ (Dc size 423): \n",
      "MSE 0.02699197, SMSE 0.02563710, MSLL -1.88800101\n",
      "GRBCM++ (Dc size 423): \n",
      "MSE 0.02956083, SMSE 0.02807702, MSLL -1.85651143\n",
      "kj =  12\n",
      "gr =  0.71000\n",
      "GRBCM++ (Dc size 423): \n",
      "MSE 0.02698393, SMSE 0.02562947, MSLL -1.89152835\n",
      "GRBCM++ (Dc size 423): \n",
      "MSE 0.02950637, SMSE 0.02802530, MSLL -1.85921795\n",
      "kj =  13\n",
      "gr =  0.72000\n",
      "GRBCM++ (Dc size 423): \n",
      "MSE 0.02660716, SMSE 0.02527161, MSLL -1.89810466\n",
      "GRBCM++ (Dc size 423): \n",
      "MSE 0.02909076, SMSE 0.02763055, MSLL -1.86601196\n",
      "kj =  14\n",
      "gr =  0.73000\n",
      "GRBCM++ (Dc size 423): \n",
      "MSE 0.02632081, SMSE 0.02499964, MSLL -1.90599839\n",
      "GRBCM++ (Dc size 423): \n",
      "MSE 0.02891043, SMSE 0.02745926, MSLL -1.87217017\n",
      "kj =  15\n",
      "gr =  0.74000\n",
      "GRBCM++ (Dc size 423): \n",
      "MSE 0.02646088, SMSE 0.02513267, MSLL -1.90825172\n",
      "GRBCM++ (Dc size 423): \n",
      "MSE 0.02923036, SMSE 0.02776313, MSLL -1.87288571\n",
      "kj =  16\n",
      "gr =  0.75000\n",
      "GRBCM++ (Dc size 423): \n",
      "MSE 0.02615740, SMSE 0.02484443, MSLL -1.91609519\n",
      "GRBCM++ (Dc size 423): \n",
      "MSE 0.02897172, SMSE 0.02751748, MSLL -1.87874364\n",
      "kj =  17\n",
      "gr =  0.76000\n",
      "GRBCM++ (Dc size 423): \n",
      "MSE 0.02610783, SMSE 0.02479735, MSLL -1.91951502\n",
      "GRBCM++ (Dc size 423): \n",
      "MSE 0.02878540, SMSE 0.02734052, MSLL -1.88265573\n",
      "kj =  18\n",
      "gr =  0.77000\n",
      "GRBCM++ (Dc size 423): \n",
      "MSE 0.02588355, SMSE 0.02458432, MSLL -1.92357266\n",
      "GRBCM++ (Dc size 423): \n",
      "MSE 0.02842393, SMSE 0.02699718, MSLL -1.88726315\n",
      "kj =  19\n",
      "gr =  0.78000\n",
      "GRBCM++ (Dc size 423): \n",
      "MSE 0.02589863, SMSE 0.02459864, MSLL -1.92887444\n",
      "GRBCM++ (Dc size 423): \n",
      "MSE 0.02831316, SMSE 0.02689198, MSLL -1.89371271\n",
      "kj =  20\n",
      "gr =  0.79000\n",
      "GRBCM++ (Dc size 423): \n",
      "MSE 0.02584138, SMSE 0.02454427, MSLL -1.93441417\n",
      "GRBCM++ (Dc size 423): \n",
      "MSE 0.02839031, SMSE 0.02696525, MSLL -1.89913493\n",
      "kj =  21\n",
      "gr =  0.80000\n",
      "GRBCM++ (Dc size 423): \n",
      "MSE 0.02587148, SMSE 0.02457286, MSLL -1.93545811\n",
      "GRBCM++ (Dc size 423): \n",
      "MSE 0.02838984, SMSE 0.02696481, MSLL -1.90002705\n",
      "kj =  22\n",
      "gr =  0.81000\n",
      "GRBCM++ (Dc size 423): \n",
      "MSE 0.02600916, SMSE 0.02470362, MSLL -1.93653992\n",
      "GRBCM++ (Dc size 423): \n",
      "MSE 0.02828382, SMSE 0.02686411, MSLL -1.90372211\n",
      "kj =  23\n",
      "gr =  0.82000\n",
      "GRBCM++ (Dc size 423): \n",
      "MSE 0.02606012, SMSE 0.02475203, MSLL -1.93788175\n",
      "GRBCM++ (Dc size 423): \n",
      "MSE 0.02823072, SMSE 0.02681367, MSLL -1.90498701\n",
      "kj =  24\n",
      "gr =  0.83000\n",
      "GRBCM++ (Dc size 423): \n",
      "MSE 0.02577791, SMSE 0.02448398, MSLL -1.94626758\n",
      "GRBCM++ (Dc size 423): \n",
      "MSE 0.02793055, SMSE 0.02652857, MSLL -1.91157029\n",
      "kj =  25\n",
      "gr =  0.84000\n",
      "GRBCM++ (Dc size 423): \n",
      "MSE 0.02577055, SMSE 0.02447699, MSLL -1.94801468\n",
      "GRBCM++ (Dc size 423): \n",
      "MSE 0.02763275, SMSE 0.02624572, MSLL -1.91587746\n",
      "kj =  26\n",
      "gr =  0.85000\n",
      "GRBCM++ (Dc size 423): \n",
      "MSE 0.02595054, SMSE 0.02464795, MSLL -1.94835874\n",
      "GRBCM++ (Dc size 423): \n",
      "MSE 0.02772256, SMSE 0.02633102, MSLL -1.91715551\n",
      "kj =  27\n",
      "gr =  0.86000\n",
      "GRBCM++ (Dc size 423): \n",
      "MSE 0.02637562, SMSE 0.02505169, MSLL -1.94386573\n",
      "GRBCM++ (Dc size 423): \n",
      "MSE 0.02829491, SMSE 0.02687464, MSLL -1.90939004\n",
      "kj =  28\n",
      "gr =  0.87000\n",
      "GRBCM++ (Dc size 423): \n",
      "MSE 0.02624750, SMSE 0.02493000, MSLL -1.94703454\n",
      "GRBCM++ (Dc size 423): \n",
      "MSE 0.02822914, SMSE 0.02681217, MSLL -1.91294831\n",
      "kj =  29\n",
      "gr =  0.88000\n",
      "GRBCM++ (Dc size 423): \n",
      "MSE 0.02564458, SMSE 0.02435735, MSLL -1.95513892\n",
      "GRBCM++ (Dc size 423): \n",
      "MSE 0.02741550, SMSE 0.02603938, MSLL -1.92304983\n",
      "kj =  30\n",
      "gr =  0.89000\n",
      "GRBCM++ (Dc size 423): \n",
      "MSE 0.02539852, SMSE 0.02412363, MSLL -1.96141657\n",
      "GRBCM++ (Dc size 423): \n",
      "MSE 0.02718549, SMSE 0.02582091, MSLL -1.92887905\n",
      "kj =  31\n",
      "gr =  0.90000\n",
      "GRBCM++ (Dc size 423): \n",
      "MSE 0.02536556, SMSE 0.02409233, MSLL -1.96091336\n",
      "GRBCM++ (Dc size 423): \n",
      "MSE 0.02705568, SMSE 0.02569761, MSLL -1.92922884\n",
      "kj =  32\n",
      "gr =  0.91000\n",
      "GRBCM++ (Dc size 423): \n",
      "MSE 0.02542395, SMSE 0.02414779, MSLL -1.96169744\n",
      "GRBCM++ (Dc size 423): \n",
      "MSE 0.02711190, SMSE 0.02575102, MSLL -1.93111915\n",
      "kj =  33\n",
      "gr =  0.92000\n",
      "GRBCM++ (Dc size 423): \n",
      "MSE 0.02544036, SMSE 0.02416338, MSLL -1.96347554\n",
      "GRBCM++ (Dc size 423): \n",
      "MSE 0.02709540, SMSE 0.02573535, MSLL -1.93192983\n",
      "kj =  34\n",
      "gr =  0.93000\n",
      "GRBCM++ (Dc size 423): \n",
      "MSE 0.02544697, SMSE 0.02416966, MSLL -1.96677097\n",
      "GRBCM++ (Dc size 423): \n",
      "MSE 0.02706414, SMSE 0.02570565, MSLL -1.93472999\n",
      "kj =  35\n",
      "gr =  0.94000\n",
      "GRBCM++ (Dc size 423): \n",
      "MSE 0.02563600, SMSE 0.02434920, MSLL -1.96589212\n",
      "GRBCM++ (Dc size 423): \n",
      "MSE 0.02740626, SMSE 0.02603060, MSLL -1.93065354\n",
      "kj =  36\n",
      "gr =  0.95000\n",
      "GRBCM++ (Dc size 423): \n",
      "MSE 0.02554710, SMSE 0.02426476, MSLL -1.96934255\n",
      "GRBCM++ (Dc size 423): \n",
      "MSE 0.02730833, SMSE 0.02593758, MSLL -1.93327409\n",
      "kj =  37\n",
      "gr =  0.96000\n",
      "GRBCM++ (Dc size 423): \n",
      "MSE 0.02501280, SMSE 0.02375728, MSLL -1.97549928\n",
      "GRBCM++ (Dc size 423): \n",
      "MSE 0.02686758, SMSE 0.02551896, MSLL -1.93887950\n",
      "kj =  38\n",
      "gr =  0.97000\n",
      "GRBCM++ (Dc size 423): \n",
      "MSE 0.02491683, SMSE 0.02366612, MSLL -1.98046381\n",
      "GRBCM++ (Dc size 423): \n",
      "MSE 0.02687163, SMSE 0.02552280, MSLL -1.94110991\n",
      "kj =  39\n",
      "gr =  0.98000\n",
      "GRBCM++ (Dc size 423): \n",
      "MSE 0.02516732, SMSE 0.02390404, MSLL -1.98181335\n",
      "GRBCM++ (Dc size 423): \n",
      "MSE 0.02715943, SMSE 0.02579616, MSLL -1.94311450\n",
      "kj =  40\n",
      "gr =  0.99000\n",
      "GRBCM++ (Dc size 423): \n",
      "MSE 0.02502540, SMSE 0.02376925, MSLL -1.98482877\n",
      "GRBCM++ (Dc size 423): \n",
      "MSE 0.02685035, SMSE 0.02550259, MSLL -1.94817032\n",
      "kj =  41\n",
      "gr =  1\n",
      "GRBCM++ (Dc size 423): \n",
      "MSE 0.02504341, SMSE 0.02378635, MSLL -1.98441634\n",
      "GRBCM++ (Dc size 423): \n",
      "MSE 0.02699424, SMSE 0.02563926, MSLL -1.94457009\n"
     ]
    }
   ],
   "source": [
    "for kj=1:length(grls) % test/validate different remaining percentage\n",
    "    kj\n",
    "    gr=grls(kj)\n",
    "\n",
    "    % remove data, and use sparse approximation\n",
    "    crk = rk;\n",
    "    [~, crk_idx] = sort(crk, 'descend');\n",
    "    rn = round(n*gr);\n",
    "    global_index = crk_idx(1:rn);\n",
    "    global_index = zeros(n,1);\n",
    "    global_index(crk_idx(1:rn)) = 1; % select remaining data according to the importance\n",
    "    \n",
    "    vfe_opts.global_index = global_index;\n",
    "    models = aggregation_train_GRBCM_VS_apx(xvec,yvec,idx,vfe_opts); % use hyp of vfe\n",
    "    [tmu,ts2] = aggregation_predict_GRBCM_VS_apx(xvec_val,models,vfe_opts);\n",
    "    if ynorm==1\n",
    "        tmu = tmu * norm_fstd + norm_fmean;\n",
    "        ts2 = ts2 * norm_fstd^2;\n",
    "    end\n",
    "    [MSE,SMSE,MSLL] = evaluate2(ori_xvec, ori_yvec, ori_xvec_val, ori_yvec_val, tmu, ts2);\n",
    "    fprintf('%s (Dc size %d): \\r\\nMSE %6.8f, SMSE %6.8f, MSLL %6.8f\\r\\n', 'GRBCM++', n_per, MSE,SMSE,MSLL);\n",
    "    vfe_gr_smse(ki,kj) = SMSE; vfe_gr_msll(ki,kj) = MSLL;\n",
    "    if MSLL < best_msll\n",
    "        best_msll = MSLL; best_msll_gr = gr;\n",
    "    end\n",
    "    if SMSE < best_smse\n",
    "        best_smse = SMSE; best_smse_gr = gr;\n",
    "    end\n",
    "    \n",
    "    sp_opts.global_index = global_index;\n",
    "    models = aggregation_train_GRBCM_VS_apx(xvec,yvec,idx,sp_opts); % use hyp of vfe\n",
    "    [tmu,ts2] = aggregation_predict_GRBCM_VS_apx(xvec_val,models,sp_opts);\n",
    "    if ynorm==1\n",
    "        tmu = tmu * norm_fstd + norm_fmean;\n",
    "        ts2 = ts2 * norm_fstd^2;\n",
    "    end\n",
    "    [MSE,SMSE,MSLL] = evaluate2(ori_xvec, ori_yvec, ori_xvec_val, ori_yvec_val, tmu, ts2);\n",
    "    fprintf('%s (Dc size %d): \\r\\nMSE %6.8f, SMSE %6.8f, MSLL %6.8f\\r\\n', 'GRBCM++', n_per, MSE,SMSE,MSLL);\n",
    "    spgp_gr_smse(ki,kj) = SMSE; spgp_gr_msll(ki,kj) = MSLL;\n",
    "end   "
   ]
  },
  {
   "cell_type": "code",
   "execution_count": 23,
   "metadata": {},
   "outputs": [
    {
     "name": "stdout",
     "output_type": "stream",
     "text": [
      "best msll gr 0.99000000, best MSLL -1.98482877\n",
      "best smse gr 0.97000000, best SMSE 0.02366612\n"
     ]
    }
   ],
   "source": [
    "fprintf('best msll gr %6.8f, best MSLL %6.8f\\r\\n', best_msll_gr, best_msll);\n",
    "fprintf('best smse gr %6.8f, best SMSE %6.8f\\r\\n', best_smse_gr, best_smse);"
   ]
  },
  {
   "cell_type": "code",
   "execution_count": 24,
   "metadata": {},
   "outputs": [
    {
     "name": "stdout",
     "output_type": "stream",
     "text": [
      "gr =  0.99000\n",
      "GRBCM++ (VFE) (Dc size 423): \n",
      "MSE 0.02234145, SMSE 0.0225, MSLL -2.0045\n",
      "GRBCM++ (SPGP) (Dc size 423): \n",
      "MSE 0.02344650, SMSE 0.0236, MSLL -1.9751\n",
      "gr =  0.97000\n",
      "GRBCM++ (VFE) (Dc size 423): \n",
      "MSE 0.02252808, SMSE 0.0227, MSLL -2.0000\n",
      "GRBCM++ (SPGP) (Dc size 423): \n",
      "MSE 0.02369750, SMSE 0.0239, MSLL -1.9696\n",
      "gr =  1\n",
      "GRBCM++ (VFE) (Dc size 423): \n",
      "MSE 0.02223942, SMSE 0.0224, MSLL -2.0075\n",
      "GRBCM++ (SPGP) (Dc size 423): \n",
      "MSE 0.02328184, SMSE 0.0235, MSLL -1.9789\n"
     ]
    }
   ],
   "source": [
    "for ki=1:kti\n",
    "    for gr = [best_msll_gr, best_smse_gr, 1.0]\n",
    "        gr\n",
    "        crk = rk;\n",
    "        crk(I_com) = -1e10;\n",
    "        [~, crk_idx] = sort(crk, 'descend');\n",
    "        rn = round(n*gr);\n",
    "        global_index = zeros(n,1);\n",
    "        global_index(crk_idx(1:rn)) = 1; % select remaining data according to the importance\n",
    "           \n",
    "        vfe_opts.global_index = global_index;\n",
    "        models = aggregation_train_GRBCM_VS_apx(xvec,yvec,idx,vfe_opts); % use hyp of vfe\n",
    "        [tmu,ts2] =  aggregation_predict_GRBCM_VS_apx(xvec_test,models,vfe_opts);\n",
    "        if ynorm==1\n",
    "            tmu = tmu * norm_fstd + norm_fmean;\n",
    "            ts2 = ts2 * norm_fstd^2;\n",
    "        end\n",
    "        [MSE,SMSE,MSLL] = evaluate2(ori_xvec, ori_yvec, ori_xvec_test, ori_yvec_test, tmu, ts2);\n",
    "        fprintf('%s (Dc size %d): \\r\\nMSE %6.8f, SMSE %6.4f, MSLL %6.4f\\r\\n', 'GRBCM++ (VFE)', n_per, MSE,SMSE,MSLL);\n",
    "%         grbcm2_gr_smse(ki,kj) = SMSE; grbcm2_gr_msll(ki,kj) = MSLL;\n",
    "        \n",
    "        sp_opts.global_index = global_index;\n",
    "        models = aggregation_train_GRBCM_VS_apx(xvec,yvec,idx,sp_opts); % use hyp of vfe\n",
    "        [tmu,ts2] =  aggregation_predict_GRBCM_VS_apx(xvec_test,models,sp_opts);\n",
    "        if ynorm==1\n",
    "            tmu = tmu * norm_fstd + norm_fmean;\n",
    "            ts2 = ts2 * norm_fstd^2;\n",
    "        end\n",
    "        [MSE,SMSE,MSLL] = evaluate2(ori_xvec, ori_yvec, ori_xvec_test, ori_yvec_test, tmu, ts2);\n",
    "        fprintf('%s (Dc size %d): \\r\\nMSE %6.8f, SMSE %6.4f, MSLL %6.4f\\r\\n', 'GRBCM++ (SPGP)', n_per, MSE,SMSE,MSLL);\n",
    "%         grbcm2_spgp_gr_smse(ki,kj) = SMSE; grbcm2_spgp_gr_msll(ki,kj) = MSLL;\n",
    "    end   \n",
    "end"
   ]
  },
  {
   "cell_type": "code",
   "execution_count": 26,
   "metadata": {},
   "outputs": [],
   "source": [
    "save(exp_name)"
   ]
  },
  {
   "cell_type": "code",
   "execution_count": null,
   "metadata": {},
   "outputs": [],
   "source": []
  }
 ],
 "metadata": {
  "kernelspec": {
   "display_name": "Octave",
   "language": "octave",
   "name": "octave"
  },
  "language_info": {
   "file_extension": ".m",
   "help_links": [
    {
     "text": "GNU Octave",
     "url": "https://www.gnu.org/software/octave/support.html"
    },
    {
     "text": "Octave Kernel",
     "url": "https://github.com/Calysto/octave_kernel"
    },
    {
     "text": "MetaKernel Magics",
     "url": "https://metakernel.readthedocs.io/en/latest/source/README.html"
    }
   ],
   "mimetype": "text/x-octave",
   "name": "octave",
   "version": "4.2.2"
  }
 },
 "nbformat": 4,
 "nbformat_minor": 2
}
