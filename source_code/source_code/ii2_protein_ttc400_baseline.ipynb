{
 "cells": [
  {
   "cell_type": "code",
   "execution_count": 1,
   "metadata": {},
   "outputs": [
    {
     "name": "stdout",
     "output_type": "stream",
     "text": [
      "executing gpml startup script...\r\n"
     ]
    }
   ],
   "source": [
    "disp ('executing gpml startup script...')\n",
    "mydir = fileparts (mfilename ('fullpath'));                 % where am I located\n",
    "addpath (mydir)\n",
    "dirs = {'cov','doc','inf','lik','mean','prior','util'};           % core folders\n",
    "for d = dirs, addpath (fullfile (mydir, d{1})), end\n",
    "dirs = {{'util','minfunc'},{'util','minfunc','compiled'}};     % minfunc folders\n",
    "for d = dirs, addpath (fullfile (mydir, d{1}{:})), end\n",
    "% addpath([mydir,'/util/sparseinv'])\n",
    "pkg load statistics\n",
    "graphics_toolkit ('gnuplot')\n",
    "\n",
    "rand('state',123456)\n",
    "exp_name = 'ii2_protein_tt400_baseline';"
   ]
  },
  {
   "cell_type": "markdown",
   "metadata": {},
   "source": [
    "%load(exp_name)"
   ]
  },
  {
   "cell_type": "code",
   "execution_count": 2,
   "metadata": {},
   "outputs": [],
   "source": [
    "n = 40000; nv = 0; nt = 5730;\n",
    "load ('./data/protein.mat');\n",
    "[ndata, ~] = size(M);\n",
    "X = M(:,2:9);\n",
    "Y = M(:,1);\n",
    "R = randperm(ndata);        \n",
    "ori_xvec_test = X(R(1:nt),:);\n",
    "ori_yvec_test = Y(R(1:nt));\n",
    "R(1:nt) = [];\n",
    "ori_xvec_val = X(R(1:nv),:);          \n",
    "ori_yvec_val = Y(R(1:nv));\n",
    "R(1:nv) = [];\n",
    "ori_xvec = X(R,:);\n",
    "ori_yvec = Y(R);"
   ]
  },
  {
   "cell_type": "code",
   "execution_count": 3,
   "metadata": {},
   "outputs": [],
   "source": [
    "ttcs = 400;\n",
    "ttm = round(n / (ttcs/2));\n",
    "% fast_induce_step = 50;\n",
    "induce_step = 100;\n",
    "\n",
    "xnorm = 1; ynorm = 1;"
   ]
  },
  {
   "cell_type": "code",
   "execution_count": 4,
   "metadata": {},
   "outputs": [],
   "source": [
    "% input normalization\n",
    "if xnorm == 1\n",
    "    norm_xmean = mean(ori_xvec);\n",
    "    norm_xstd = std(ori_xvec);\n",
    "    xvec = (ori_xvec - repmat(norm_xmean,n,1)) ./ repmat(norm_xstd,n,1);    \n",
    "    xvec_test = (ori_xvec_test - repmat(norm_xmean,nt,1)) ./ repmat(norm_xstd,nt,1);\n",
    "    xvec_val = (ori_xvec_val - repmat(norm_xmean,nv,1)) ./ repmat(norm_xstd,nv,1);\n",
    "else\n",
    "    xvec = ori_xvec;\n",
    "    xvec_test = ori_xvec_test;\n",
    "    xvec_val = ori_xvec_val;\n",
    "end"
   ]
  },
  {
   "cell_type": "code",
   "execution_count": 5,
   "metadata": {},
   "outputs": [],
   "source": [
    "% output normalization\n",
    "if ynorm == 1\n",
    "    norm_fmean = mean(ori_yvec);\n",
    "    norm_fstd = std(ori_yvec);\n",
    "    yvec = (ori_yvec - norm_fmean) / norm_fstd;\n",
    "    yvec_test = (ori_yvec_test - norm_fmean) / norm_fstd;\n",
    "    yvec_val = (ori_yvec_val - norm_fmean) / norm_fstd;\n",
    "else\n",
    "    yvec = ori_yvec;\n",
    "    yvec_test = ori_yvec_test;\n",
    "    yvec_test_val = ori_yvec_val;\n",
    "end"
   ]
  },
  {
   "cell_type": "code",
   "execution_count": 6,
   "metadata": {},
   "outputs": [],
   "source": [
    "sf2 = 1 ; ell = 1 ; sn2 = 0.1 ; \n",
    "d = size(xvec,2);\n",
    "opts.Xnorm = 'N' ; opts.Ynorm = 'N' ;\n",
    "opts.ell = ell ; opts.sf2 = sf2 ; opts.sn2 = sn2 ;\n",
    "opts.meanfunc = []; opts.covfunc = @covSEard; opts.likfunc = @likGauss; opts.inffunc = @infGaussLik ;\n",
    "\n",
    "meanfunc = [];                    % empty: don't use a mean function\n",
    "covfunc = opts.covfunc;              % Squared Exponental covariance function\n",
    "likfunc = opts.likfunc;              % Gaussian likelihood\n",
    "inffunc = opts.inffunc;\n",
    "km_iters = 1e4;\n",
    "opts.induce_step = induce_step ;"
   ]
  },
  {
   "cell_type": "markdown",
   "metadata": {},
   "source": [
    "# Baseline"
   ]
  },
  {
   "cell_type": "code",
   "execution_count": 7,
   "metadata": {},
   "outputs": [],
   "source": [
    "dcs = round(ttcs/2);\n",
    "m = ttm;\n",
    "\n",
    "n_per = dcs ; % size of Dc"
   ]
  },
  {
   "cell_type": "code",
   "execution_count": 8,
   "metadata": {},
   "outputs": [],
   "source": [
    "Indics = randperm(n) ;\n",
    "I_com = Indics(1:n_per) ; % randomly select communication set\n",
    "[idx, C] = kmeans(xvec, m,'MaxIter',km_iters);    \n",
    "\n",
    "% hyp.cov = log([ones(d,1)*ell;sf2]); hyp.lik = log(sn2); hyp.mean = [];    \n",
    "opts.numOptFC = 30 ;\n",
    "opts.Ms = m+1;\n",
    "opts.xvec = xvec;\n",
    "opts.yvec = yvec;\n",
    "opts.induce_size = dcs;\n",
    "opts.grbcm_baseline = 0;\n",
    "opts.global_index = ones(n,1);\n",
    "opts.I_com = I_com;\n",
    "% opts.inffunc = @infGaussLik; opts.meanfunc = meanfunc; opts.likfunc = likfunc;\n",
    "opts.covfunc = covfunc;\n",
    "covfuncF = {@apxSparse, {opts.covfunc}, xvec(I_com,:)};\n",
    "opts.covfuncF = covfuncF;\n",
    "opts.compute_hyp = 0;"
   ]
  },
  {
   "cell_type": "code",
   "execution_count": 9,
   "metadata": {},
   "outputs": [
    {
     "name": "stdout",
     "output_type": "stream",
     "text": [
      "Optimizing hyps in training...\n",
      "Linesearch     30;  Value 3.747914e+04\n",
      "GRBCM (Dc size 200): MSE 15.41330157, SMSE 0.41084936, MSLL -0.60348683\n"
     ]
    }
   ],
   "source": [
    "g_opts = opts;\n",
    "g_opts.compute_hyp = 1;\n",
    "g_opts.grbcm_baseline = 1;\n",
    "g_opts.global_index = ones(n,1);\n",
    "g_models = aggregation_train_GRBCM_VS_apx(xvec,yvec,idx,g_opts); \n",
    "opts.hyp = g_models{1}.hyp;\n",
    "g_opts.hyp = g_models{1}.hyp;\n",
    "[tmu,ts2, ~] =  aggregation_predict(xvec_test,g_models,'GRBCM', 1, g_opts);\n",
    "if ynorm==1\n",
    "    tmu = tmu * norm_fstd + norm_fmean;\n",
    "    ts2 = ts2 * norm_fstd^2;\n",
    "end\n",
    "[grbcmMSE,grbcmSMSE,grbcmMSLL] = evaluate2(ori_xvec, ori_yvec, ori_xvec_test, ori_yvec_test, tmu, ts2);\n",
    "fprintf('%s (Dc size %d): MSE %6.8f, SMSE %6.8f, MSLL %6.8f\\r\\n', 'GRBCM', n_per, grbcmMSE,grbcmSMSE,grbcmMSLL);\n",
    "% grbcm0_smse_rec(ki) = grbcmSMSE; grbcm0_msll_rec(ki) = grbcmMSLL;\n",
    "g_opts.compute_hyp = 0;"
   ]
  },
  {
   "cell_type": "code",
   "execution_count": 10,
   "metadata": {},
   "outputs": [
    {
     "name": "stdout",
     "output_type": "stream",
     "text": [
      "Function evaluation     99;  Value 3.515936e+04\n",
      "VFE baseline (Dc size 200): MSE 17.84256435, SMSE 0.47560259, MSLL -0.50735575\n"
     ]
    }
   ],
   "source": [
    "% % VFE Baseline\n",
    "I_com = Indics(1:ttcs) ;\n",
    "vfe_opts = opts;\n",
    "vfe_opts.induce_type = 'VFE_opt';\n",
    "xu = xvec(I_com, :);\n",
    "vfe_hyp = opts.hyp;\n",
    "vfe_hyp.xu = xu;\n",
    "vfe_hyp = minimize(vfe_hyp,@gp,-opts.induce_step,inffunc,meanfunc,covfuncF,likfunc,xvec,yvec);\n",
    "vfe_opts.hyp = opts.hyp;\n",
    "vfe_opts.xu = vfe_hyp.xu;\n",
    "vfe_opts.inffunc = @infGaussLik; vfe_opts.meanfunc = meanfunc; vfe_opts.covfuncF = covfuncF; vfe_opts.likfunc = likfunc;\n",
    "vfe_opts.covfunc = covfunc;\n",
    "[tmu, ts2] = gp(vfe_hyp, @infGaussLik, meanfunc, covfuncF, likfunc, xvec, yvec, xvec_test);\n",
    "if ynorm==1\n",
    "    tmu = tmu * norm_fstd + norm_fmean;\n",
    "    ts2 = ts2 * norm_fstd^2;\n",
    "end\n",
    "[vfeMSE,vfeSMSE,vfeMSLL] = evaluate2(ori_xvec, ori_yvec, ori_xvec_test, ori_yvec_test, tmu, ts2);\n",
    "fprintf('%s (Dc size %d): MSE %6.8f, SMSE %6.8f, MSLL %6.8f\\r\\n', 'VFE baseline', n_per, vfeMSE,vfeSMSE,vfeMSLL);\n",
    "% vfe0_smse_rec(ki) = vfeSMSE; vfe0_msll_rec(ki) = vfeMSLL;\n",
    "[yu, su] = gp(vfe_hyp, @infGaussLik, meanfunc, covfuncF, likfunc, xvec, yvec, vfe_opts.xu);\n",
    "vfe_opts.yu = yu; vfe_opts.su = su; "
   ]
  },
  {
   "cell_type": "code",
   "execution_count": 11,
   "metadata": {},
   "outputs": [
    {
     "name": "stdout",
     "output_type": "stream",
     "text": [
      "Function evaluation    100;  Value 3.421558e+04\n",
      "SPSG baseline (Dc size 200): MSE 17.60183227, SMSE 0.46918575, MSLL -0.52186843\n"
     ]
    }
   ],
   "source": [
    "sp_opts = opts;\n",
    "sp_opts.induce_type = 'SPGP_opt';\n",
    "hyp_init(1:d,1) = -2*opts.hyp.cov(1:d);\n",
    "hyp_init(d+1,1) = 2*opts.hyp.cov(d+1);\n",
    "hyp_init(d+2,1) = 2*opts.hyp.lik;\n",
    "\n",
    "xu = xvec(I_com, :);\n",
    "w_init = [reshape(xu,ttcs*d,1);hyp_init];\n",
    "[w,f] = minimize(w_init,'spgp_lik',-sp_opts.induce_step,yvec,xvec,ttcs);\n",
    "xb = reshape(w(1:ttcs*d,1),ttcs,d);\n",
    "sp_opts.xu = xb;\n",
    "sp_opts.sp_hyp = w(ttcs*d+1:end,1);\n",
    "sp_opts.hyp = opts.hyp;\n",
    "\n",
    "[tmu,ts2] = spgp_pred(sp_opts.yvec,sp_opts.xvec,sp_opts.xu,xvec_test,sp_opts.sp_hyp);\n",
    "if ynorm==1\n",
    "    tmu = tmu * norm_fstd + norm_fmean;\n",
    "    ts2 = ts2 * norm_fstd^2;\n",
    "end\n",
    "[spgpMSE,spgpSMSE,spgpMSLL] = evaluate2(ori_xvec, ori_yvec, ori_xvec_test, ori_yvec_test, tmu, ts2);\n",
    "fprintf('%s (Dc size %d): MSE %6.8f, SMSE %6.8f, MSLL %6.8f\\r\\n', 'SPSG baseline', n_per, spgpMSE,spgpSMSE,spgpMSLL);\n",
    "% spgp0_smse_rec(ki) = spgpSMSE; spgp0_msll_rec(ki) = spgpMSLL;\n",
    "[yu,su] = spgp_pred(sp_opts.yvec,sp_opts.xvec,sp_opts.xu,sp_opts.xu,sp_opts.sp_hyp);\n",
    "sp_opts.yu = yu; sp_opts.su = su;"
   ]
  },
  {
   "cell_type": "code",
   "execution_count": 12,
   "metadata": {},
   "outputs": [
    {
     "name": "stdout",
     "output_type": "stream",
     "text": [
      "RBCM (Dc size 200): MSE 15.52633732, SMSE 0.4139, MSLL -0.5718\n",
      "BCM (Dc size 200): MSE 14.55576626, SMSE 0.3880, MSLL -0.1951\n",
      "PoE (Dc size 200): MSE 35.39057036, SMSE 0.9434, MSLL 85.3095\n",
      "GPoE (Dc size 200): MSE 13.57772850, SMSE 0.3619, MSLL -0.3754\n"
     ]
    }
   ],
   "source": [
    "criterion = 'RBCM';\n",
    "[tmu,ts2,t_dGP_predict] = aggregation_predict(xvec_test,g_models,criterion, 1, g_opts);\n",
    "if ynorm==1\n",
    "    tmu = tmu * norm_fstd + norm_fmean;\n",
    "    ts2 = ts2 * norm_fstd^2;\n",
    "end\n",
    "[rbcmMSE,rbcmSMSE,rbcmMSLL] = evaluate2(ori_xvec, ori_yvec, ori_xvec_test, ori_yvec_test, tmu, ts2);\n",
    "fprintf('%s (Dc size %d): MSE %6.8f, SMSE %6.4f, MSLL %6.4f\\r\\n', criterion, n_per, rbcmMSE,rbcmSMSE,rbcmMSLL);\n",
    "% rbcm0_smse_rec(ki) = rbcmSMSE; rbcm0_msll_rec(ki) = rbcmMSLL;\n",
    "\n",
    "criterion = 'BCM';\n",
    "[tmu,ts2,t_dGP_predict] = aggregation_predict(xvec_test,g_models,criterion, 1, g_opts);\n",
    "if ynorm==1\n",
    "    tmu = tmu * norm_fstd + norm_fmean;\n",
    "    ts2 = ts2 * norm_fstd^2;\n",
    "end\n",
    "[bcmMSE,bcmSMSE,bcmMSLL] = evaluate2(ori_xvec, ori_yvec, ori_xvec_test, ori_yvec_test, tmu, ts2);\n",
    "fprintf('%s (Dc size %d): MSE %6.8f, SMSE %6.4f, MSLL %6.4f\\r\\n', criterion, n_per, bcmMSE,bcmSMSE,bcmMSLL);\n",
    "% bcm0_smse_rec(ki) = bcmSMSE; bcm0_msll_rec(ki) = bcmMSLL;\n",
    "\n",
    "criterion = 'PoE';\n",
    "[tmu,ts2,t_dGP_predict] = aggregation_predict(xvec_test,g_models,criterion, 1, g_opts);\n",
    "if ynorm==1\n",
    "    tmu = tmu * norm_fstd + norm_fmean;\n",
    "    ts2 = ts2 * norm_fstd^2;\n",
    "end\n",
    "[poeMSE,poeSMSE,poeMSLL] = evaluate2(ori_xvec, ori_yvec, ori_xvec_test, ori_yvec_test, tmu, ts2);\n",
    "fprintf('%s (Dc size %d): MSE %6.8f, SMSE %6.4f, MSLL %6.4f\\r\\n', criterion, n_per, poeMSE,poeSMSE,poeMSLL);\n",
    "% poe0_smse_rec(ki) = poeSMSE; poe0_msll_rec(ki) = poeMSLL;\n",
    "\n",
    "criterion = 'GPoE';\n",
    "[tmu,ts2,t_dGP_predict] = aggregation_predict(xvec_test,g_models,criterion, 1, g_opts);\n",
    "if ynorm==1\n",
    "    tmu = tmu * norm_fstd + norm_fmean;\n",
    "    ts2 = ts2 * norm_fstd^2;\n",
    "end\n",
    "[gpoeMSE,gpoeSMSE,gpoeMSLL] = evaluate2(ori_xvec, ori_yvec, ori_xvec_test, ori_yvec_test, tmu, ts2);\n",
    "fprintf('%s (Dc size %d): MSE %6.8f, SMSE %6.4f, MSLL %6.4f\\r\\n', criterion, n_per, gpoeMSE,gpoeSMSE,gpoeMSLL);\n",
    "% gpoe0_smse_rec(ki) = gpoeSMSE; gpoe0_msll_rec(ki) = gpoeMSLL;"
   ]
  },
  {
   "cell_type": "code",
   "execution_count": 13,
   "metadata": {},
   "outputs": [],
   "source": [
    "save(exp_name)"
   ]
  },
  {
   "cell_type": "code",
   "execution_count": null,
   "metadata": {},
   "outputs": [],
   "source": []
  }
 ],
 "metadata": {
  "kernelspec": {
   "display_name": "Octave",
   "language": "octave",
   "name": "octave"
  },
  "language_info": {
   "file_extension": ".m",
   "help_links": [
    {
     "text": "GNU Octave",
     "url": "https://www.gnu.org/software/octave/support.html"
    },
    {
     "text": "Octave Kernel",
     "url": "https://github.com/Calysto/octave_kernel"
    },
    {
     "text": "MetaKernel Magics",
     "url": "https://metakernel.readthedocs.io/en/latest/source/README.html"
    }
   ],
   "mimetype": "text/x-octave",
   "name": "octave",
   "version": "4.2.2"
  }
 },
 "nbformat": 4,
 "nbformat_minor": 2
}
